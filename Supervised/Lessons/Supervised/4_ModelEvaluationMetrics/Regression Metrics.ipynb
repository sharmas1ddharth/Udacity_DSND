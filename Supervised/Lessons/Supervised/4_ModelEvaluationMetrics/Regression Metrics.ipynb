{
 "cells": [
  {
   "cell_type": "markdown",
   "source": [
    "### Boston Housing Data\n",
    "\n",
    "In order to gain a better understanding of the metrics used in regression settings, we will be looking at the Boston Housing dataset.  \n",
    "\n",
    "First use the cell below to read in the dataset and set up the training and testing data that will be used for the rest of this problem."
   ],
   "metadata": {}
  },
  {
   "cell_type": "code",
   "execution_count": 1,
   "source": [
    "from sklearn.datasets import load_boston\r\n",
    "from sklearn.model_selection import train_test_split\r\n",
    "import numpy as np\r\n",
    "import tests2 as t\r\n",
    "\r\n",
    "boston = load_boston()\r\n",
    "y = boston.target\r\n",
    "X = boston.data\r\n",
    "\r\n",
    "X_train, X_test, y_train, y_test = train_test_split(\r\n",
    "            X, y, test_size=0.33, random_state=42)"
   ],
   "outputs": [],
   "metadata": {}
  },
  {
   "cell_type": "markdown",
   "source": [
    "> **Step 1:** Before we get too far, let's do a quick check of the models that you can use in this situation given that you are working on a regression problem.  Use the dictionary and corresponding letters below to provide all the possible models you might choose to use."
   ],
   "metadata": {}
  },
  {
   "cell_type": "code",
   "execution_count": 3,
   "source": [
    "# When can you use the model - use each option as many times as necessary\r\n",
    "a = 'regression'\r\n",
    "b = 'classification'\r\n",
    "c = 'both regression and classification'\r\n",
    "\r\n",
    "models = {\r\n",
    "    'decision trees': c,\r\n",
    "    'random forest': c,\r\n",
    "    'adaptive boosting': c,\r\n",
    "    'logistic regression': b,\r\n",
    "    'linear regression': a\r\n",
    "}\r\n",
    "\r\n",
    "#checks your answer, no need to change this code\r\n",
    "t.q1_check(models)"
   ],
   "outputs": [
    {
     "output_type": "stream",
     "name": "stdout",
     "text": [
      "That's right!  All but logistic regression can be used for predicting numeric values.  And linear regression is the only one of these that you should not use for predicting categories.  Technically sklearn won't stop you from doing most of anything you want, but you probably want to treat cases in the way you found by answering this question!\n"
     ]
    }
   ],
   "metadata": {}
  },
  {
   "cell_type": "markdown",
   "source": [
    "> **Step 2:** Now for each of the models you found in the previous question that can be used for regression problems, import them using sklearn."
   ],
   "metadata": {}
  },
  {
   "cell_type": "code",
   "execution_count": 4,
   "source": [
    "# Import models from sklearn - notice you will want to use \r\n",
    "# the regressor version (not classifier) - googling to find \r\n",
    "# each of these is what we all do!\r\n",
    "from sklearn.linear_model import LinearRegression\r\n",
    "from sklearn.tree import DecisionTreeRegressor\r\n",
    "from sklearn.ensemble import RandomForestRegressor\r\n",
    "from sklearn.ensemble import AdaBoostRegressor\r\n"
   ],
   "outputs": [],
   "metadata": {}
  },
  {
   "cell_type": "markdown",
   "source": [
    "> **Step 3:** Now that you have imported the 4 models that can be used for regression problems, instantate each below."
   ],
   "metadata": {}
  },
  {
   "cell_type": "code",
   "execution_count": 5,
   "source": [
    "# Instantiate each of the models you imported\r\n",
    "# For now use the defaults for all the hyperparameters\r\n",
    "linear_regression = LinearRegression()\r\n",
    "decision_tree = DecisionTreeRegressor()\r\n",
    "random_forest = RandomForestRegressor()\r\n",
    "ada_boost = AdaBoostRegressor()"
   ],
   "outputs": [],
   "metadata": {}
  },
  {
   "cell_type": "markdown",
   "source": [
    "> **Step 4:** Fit each of your instantiated models on the training data."
   ],
   "metadata": {}
  },
  {
   "cell_type": "code",
   "execution_count": 6,
   "source": [
    "# Fit each of your models using the training data\r\n",
    "linear_regression.fit(X_train, y_train)\r\n",
    "decision_tree.fit(X_train, y_train)\r\n",
    "random_forest.fit(X_train, y_train)\r\n",
    "ada_boost.fit(X_train, y_train)"
   ],
   "outputs": [
    {
     "output_type": "execute_result",
     "data": {
      "text/plain": [
       "AdaBoostRegressor()"
      ]
     },
     "metadata": {},
     "execution_count": 6
    }
   ],
   "metadata": {}
  },
  {
   "cell_type": "markdown",
   "source": [
    "> **Step 5:** Use each of your models to predict on the test data."
   ],
   "metadata": {}
  },
  {
   "cell_type": "code",
   "execution_count": 7,
   "source": [
    "# Predict on the test values for each model\r\n",
    "linear_predict = linear_regression.predict(X_test)\r\n",
    "decision_tree_predict = decision_tree.predict(X_test)\r\n",
    "random_forest_predict = random_forest.predict(X_test)\r\n",
    "ada_boost_predict = ada_boost.predict(X_test)"
   ],
   "outputs": [],
   "metadata": {}
  },
  {
   "cell_type": "markdown",
   "source": [
    "> **Step 6:** Now for the information related to this lesson.  Use the dictionary to match the metrics that are used for regression and those that are for classification."
   ],
   "metadata": {}
  },
  {
   "cell_type": "code",
   "execution_count": 11,
   "source": [
    "# potential model options\r\n",
    "a = 'regression'\r\n",
    "b = 'classification'\r\n",
    "c = 'both regression and classification'\r\n",
    "\r\n",
    "#\r\n",
    "metrics = {\r\n",
    "    'precision': b,\r\n",
    "    'recall': b,\r\n",
    "    'accuracy': b,\r\n",
    "    'r2_score': a,\r\n",
    "    'mean_squared_error': a,\r\n",
    "    'area_under_curve': b, \r\n",
    "    'mean_absolute_area': a \r\n",
    "}\r\n",
    "\r\n",
    "#checks your answer, no need to change this code\r\n",
    "t.q6_check(metrics)"
   ],
   "outputs": [
    {
     "output_type": "stream",
     "name": "stdout",
     "text": [
      "That's right! Looks like you know your metrics!\n"
     ]
    }
   ],
   "metadata": {}
  },
  {
   "cell_type": "markdown",
   "source": [
    "> **Step 6:** Now that you have identified the metrics that can be used in for regression problems, use sklearn to import them."
   ],
   "metadata": {}
  },
  {
   "cell_type": "code",
   "execution_count": 12,
   "source": [
    "# Import the metrics from sklearn\r\n",
    "from sklearn.metrics import r2_score, mean_squared_error, mean_absolute_error"
   ],
   "outputs": [],
   "metadata": {}
  },
  {
   "cell_type": "markdown",
   "source": [
    "> **Step 7:** Similar to what you did with classification models, let's make sure you are comfortable with how exactly each of these metrics is being calculated.  We can then match the value to what sklearn provides."
   ],
   "metadata": {}
  },
  {
   "cell_type": "code",
   "execution_count": 13,
   "source": [
    "def r2(actual, preds):\r\n",
    "    '''\r\n",
    "    INPUT:\r\n",
    "    actual - numpy array or pd series of actual y values\r\n",
    "    preds - numpy array or pd series of predicted y values\r\n",
    "    OUTPUT:\r\n",
    "    returns the r-squared score as a float\r\n",
    "    '''\r\n",
    "    sse = np.sum((actual-preds)**2)\r\n",
    "    sst = np.sum((actual-np.mean(actual))**2)\r\n",
    "    return 1 - sse/sst\r\n",
    "\r\n",
    "# Check solution matches sklearn\r\n",
    "print(r2(y_test, decision_tree_predict))\r\n",
    "print(r2_score(y_test, decision_tree_predict))\r\n",
    "print(\"Since the above match, we can see that we have correctly calculated the r2 value.\")"
   ],
   "outputs": [
    {
     "output_type": "stream",
     "name": "stdout",
     "text": [
      "0.7516733030799159\n",
      "0.7516733030799159\n",
      "Since the above match, we can see that we have correctly calculated the r2 value.\n"
     ]
    }
   ],
   "metadata": {}
  },
  {
   "cell_type": "markdown",
   "source": [
    "> **Step 8:** Your turn fill in the function below and see if your result matches the built in for mean_squared_error. "
   ],
   "metadata": {}
  },
  {
   "cell_type": "code",
   "execution_count": 15,
   "source": [
    "def mse(actual, preds):\r\n",
    "    '''\r\n",
    "    INPUT:\r\n",
    "    actual - numpy array or pd series of actual y values\r\n",
    "    preds - numpy array or pd series of predicted y values\r\n",
    "    OUTPUT:\r\n",
    "    returns the mean squared error as a float\r\n",
    "    '''\r\n",
    "    \r\n",
    "    return np.sum((actual - preds) ** 2) / len(actual) \r\n",
    "\r\n",
    "\r\n",
    "# Check your solution matches sklearn\r\n",
    "print(mse(y_test, decision_tree_predict))\r\n",
    "print(mean_squared_error(y_test, decision_tree_predict))\r\n",
    "print(\"If the above match, you are all set!\")"
   ],
   "outputs": [
    {
     "output_type": "stream",
     "name": "stdout",
     "text": [
      "18.79299401197605\n",
      "18.79299401197605\n",
      "If the above match, you are all set!\n"
     ]
    }
   ],
   "metadata": {}
  },
  {
   "cell_type": "markdown",
   "source": [
    "> **Step 9:** Now one last time - complete the function related to mean absolute error.  Then check your function against the sklearn metric to assure they match. "
   ],
   "metadata": {}
  },
  {
   "cell_type": "code",
   "execution_count": 17,
   "source": [
    "def mae(actual, preds):\r\n",
    "    '''\r\n",
    "    INPUT:\r\n",
    "    actual - numpy array or pd series of actual y values\r\n",
    "    preds - numpy array or pd series of predicted y values\r\n",
    "    OUTPUT:\r\n",
    "    returns the mean absolute error as a float\r\n",
    "    '''\r\n",
    "    \r\n",
    "    return np.sum(np.abs(actual - preds)) / len(actual)\r\n",
    "\r\n",
    "# Check your solution matches sklearn\r\n",
    "print(mae(y_test, decision_tree_predict))\r\n",
    "print(mean_absolute_error(y_test, decision_tree_predict))\r\n",
    "print(\"If the above match, you are all set!\")"
   ],
   "outputs": [
    {
     "output_type": "stream",
     "name": "stdout",
     "text": [
      "2.9323353293413175\n",
      "2.9323353293413175\n",
      "If the above match, you are all set!\n"
     ]
    }
   ],
   "metadata": {}
  },
  {
   "cell_type": "markdown",
   "source": [
    "> **Step 10:** Which model performed the best in terms of each of the metrics?  Note that r2 and mse will always match, but the mae may give a different best model.  Use the dictionary and space below to match the best model via each metric."
   ],
   "metadata": {}
  },
  {
   "cell_type": "code",
   "execution_count": 21,
   "source": [
    "#match each metric to the model that performed best on it\r\n",
    "a = 'decision tree'\r\n",
    "b = 'random forest'\r\n",
    "c = 'adaptive boosting'\r\n",
    "d = 'linear regression'\r\n",
    "\r\n",
    "\r\n",
    "best_fit = {\r\n",
    "    'mse': b,\r\n",
    "    'r2': b,\r\n",
    "    'mae': b\r\n",
    "}\r\n",
    "\r\n",
    "#Tests your answer - don't change this code\r\n",
    "t.check_ten(best_fit)"
   ],
   "outputs": [
    {
     "output_type": "stream",
     "name": "stdout",
     "text": [
      "That's right!  The random forest was best in terms of all the metrics this time!\n"
     ]
    }
   ],
   "metadata": {}
  },
  {
   "cell_type": "code",
   "execution_count": 19,
   "source": [
    "# cells for work\r\n",
    "model = [decision_tree_predict, random_forest_predict, ada_boost_predict, linear_predict]\r\n",
    "\r\n",
    "for i in model:\r\n",
    "    r = r2(y_test, i)\r\n",
    "    mae_ = mae(y_test, i)\r\n",
    "    mse_ = mse(y_test, i)\r\n",
    "\r\n",
    "    print(f\"r2 : {r}\")\r\n",
    "    print(f\"mae : {mae_}\")\r\n",
    "    print(f\"mse : {mse_}\\n\")"
   ],
   "outputs": [
    {
     "output_type": "stream",
     "name": "stdout",
     "text": [
      "r2 : 0.7516733030799159\n",
      "mae : 2.9323353293413175\n",
      "mse : 18.79299401197605\n",
      "\n",
      "r2 : 0.867376916306257\n",
      "mae : 2.184646706586826\n",
      "mse : 10.036717149700598\n",
      "\n",
      "r2 : 0.8047683795754985\n",
      "mae : 2.638655322676276\n",
      "mse : 14.77483782086781\n",
      "\n",
      "r2 : 0.7261570836552471\n",
      "mae : 3.148255754816828\n",
      "mse : 20.72402343733979\n",
      "\n"
     ]
    }
   ],
   "metadata": {}
  },
  {
   "cell_type": "code",
   "execution_count": null,
   "source": [],
   "outputs": [],
   "metadata": {}
  },
  {
   "cell_type": "code",
   "execution_count": null,
   "source": [],
   "outputs": [],
   "metadata": {}
  }
 ],
 "metadata": {
  "kernelspec": {
   "name": "python3",
   "display_name": "Python 3.9.4 64-bit"
  },
  "language_info": {
   "codemirror_mode": {
    "name": "ipython",
    "version": 3
   },
   "file_extension": ".py",
   "mimetype": "text/x-python",
   "name": "python",
   "nbconvert_exporter": "python",
   "pygments_lexer": "ipython3",
   "version": "3.9.4"
  },
  "interpreter": {
   "hash": "c847c6e972454b29a089ff441ac7748bdb3ebfe236f9ff01197d59c725715b4d"
  }
 },
 "nbformat": 4,
 "nbformat_minor": 2
}