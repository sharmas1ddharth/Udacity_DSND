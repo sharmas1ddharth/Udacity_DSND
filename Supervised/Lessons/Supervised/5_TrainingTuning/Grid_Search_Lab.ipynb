{
 "cells": [
  {
   "cell_type": "markdown",
   "source": [
    "# Improving a model with Grid Search\n",
    "\n",
    "In this mini-lab, we'll fit a decision tree model to some sample data. This initial model will overfit heavily. Then we'll use Grid Search to find better parameters for this model, to reduce the overfitting.\n",
    "\n",
    "First, some imports."
   ],
   "metadata": {}
  },
  {
   "cell_type": "code",
   "execution_count": 1,
   "source": [
    "%matplotlib inline\r\n",
    "import pandas as pd\r\n",
    "import numpy as np\r\n",
    "import matplotlib.pyplot as plt"
   ],
   "outputs": [],
   "metadata": {}
  },
  {
   "cell_type": "markdown",
   "source": [
    "### 1. Reading and plotting the data\n",
    "Now, a function that will help us read the csv file, and plot the data."
   ],
   "metadata": {}
  },
  {
   "cell_type": "code",
   "execution_count": 2,
   "source": [
    "def load_pts(csv_name):\r\n",
    "    data = np.asarray(pd.read_csv(csv_name, header=None))\r\n",
    "    X = data[:,0:2]\r\n",
    "    y = data[:,2]\r\n",
    "\r\n",
    "    plt.scatter(X[np.argwhere(y==0).flatten(),0], X[np.argwhere(y==0).flatten(),1],s = 50, color = 'blue', edgecolor = 'k')\r\n",
    "    plt.scatter(X[np.argwhere(y==1).flatten(),0], X[np.argwhere(y==1).flatten(),1],s = 50, color = 'red', edgecolor = 'k')\r\n",
    "    \r\n",
    "    plt.xlim(-2.05,2.05)\r\n",
    "    plt.ylim(-2.05,2.05)\r\n",
    "    plt.grid(False)\r\n",
    "    plt.tick_params(\r\n",
    "        axis='x',\r\n",
    "        which='both',\r\n",
    "        bottom='off',\r\n",
    "        top='off')\r\n",
    "\r\n",
    "    return X,y\r\n",
    "\r\n",
    "X, y = load_pts('data.csv')\r\n",
    "plt.show()"
   ],
   "outputs": [
    {
     "output_type": "display_data",
     "data": {
      "text/plain": [
       "<Figure size 432x288 with 1 Axes>"
      ],
      "image/png": "[encoded data removed]"
     },
     "metadata": {
      "needs_background": "light"
     }
    }
   ],
   "metadata": {}
  },
  {
   "cell_type": "markdown",
   "source": [
    "### 2. Splitting our data into training and testing sets"
   ],
   "metadata": {}
  },
  {
   "cell_type": "code",
   "execution_count": 3,
   "source": [
    "from sklearn.model_selection import train_test_split\r\n",
    "from sklearn.metrics import f1_score, make_scorer\r\n",
    "\r\n",
    "#Fixing a random seed\r\n",
    "import random\r\n",
    "random.seed(42)\r\n",
    "\r\n",
    "# Split the data into training and testing sets\r\n",
    "X_train, X_test, y_train, y_test = train_test_split(X, y, test_size=0.2, random_state=42)"
   ],
   "outputs": [],
   "metadata": {}
  },
  {
   "cell_type": "markdown",
   "source": [
    "### 3. Fitting a Decision Tree model"
   ],
   "metadata": {}
  },
  {
   "cell_type": "code",
   "execution_count": 4,
   "source": [
    "from sklearn.tree import DecisionTreeClassifier\r\n",
    "\r\n",
    "# Define the model (with default hyperparameters)\r\n",
    "clf = DecisionTreeClassifier(random_state=42)\r\n",
    "\r\n",
    "# Fit the model\r\n",
    "clf.fit(X_train, y_train)\r\n",
    "\r\n",
    "# Make predictions\r\n",
    "train_predictions = clf.predict(X_train)\r\n",
    "test_predictions = clf.predict(X_test)"
   ],
   "outputs": [],
   "metadata": {}
  },
  {
   "cell_type": "markdown",
   "source": [
    "Now let's plot the model, and find the testing f1_score, to see how we did."
   ],
   "metadata": {}
  },
  {
   "cell_type": "markdown",
   "source": [
    "The following function will help us plot the model."
   ],
   "metadata": {}
  },
  {
   "cell_type": "code",
   "execution_count": 5,
   "source": [
    "def plot_model(X, y, clf):\r\n",
    "    plt.scatter(X[np.argwhere(y==0).flatten(),0],X[np.argwhere(y==0).flatten(),1],s = 50, color = 'blue', edgecolor = 'k')\r\n",
    "    plt.scatter(X[np.argwhere(y==1).flatten(),0],X[np.argwhere(y==1).flatten(),1],s = 50, color = 'red', edgecolor = 'k')\r\n",
    "\r\n",
    "    plt.xlim(-2.05,2.05)\r\n",
    "    plt.ylim(-2.05,2.05)\r\n",
    "    plt.grid(False)\r\n",
    "    plt.tick_params(\r\n",
    "        axis='x',\r\n",
    "        which='both',\r\n",
    "        bottom='off',\r\n",
    "        top='off')\r\n",
    "\r\n",
    "    r = np.linspace(-2.1,2.1,300)\r\n",
    "    s,t = np.meshgrid(r,r)\r\n",
    "    s = np.reshape(s,(np.size(s),1))\r\n",
    "    t = np.reshape(t,(np.size(t),1))\r\n",
    "    h = np.concatenate((s,t),1)\r\n",
    "\r\n",
    "    z = clf.predict(h)\r\n",
    "\r\n",
    "    s = s.reshape((np.size(r),np.size(r)))\r\n",
    "    t = t.reshape((np.size(r),np.size(r)))\r\n",
    "    z = z.reshape((np.size(r),np.size(r)))\r\n",
    "\r\n",
    "    plt.contourf(s,t,z,colors = ['blue','red'],alpha = 0.2,levels = range(-1,2))\r\n",
    "    if len(np.unique(z)) > 1:\r\n",
    "        plt.contour(s,t,z,colors = 'k', linewidths = 2)\r\n",
    "    plt.show()"
   ],
   "outputs": [],
   "metadata": {}
  },
  {
   "cell_type": "code",
   "execution_count": 6,
   "source": [
    "plot_model(X, y, clf)\r\n",
    "print('The Training F1 Score is', f1_score(train_predictions, y_train))\r\n",
    "print('The Testing F1 Score is', f1_score(test_predictions, y_test))"
   ],
   "outputs": [
    {
     "output_type": "display_data",
     "data": {
      "text/plain": [
       "<Figure size 432x288 with 1 Axes>"
      ],
      "image/png": "[encoded data removed]"
     },
     "metadata": {
      "needs_background": "light"
     }
    },
    {
     "output_type": "stream",
     "name": "stdout",
     "text": [
      "The Training F1 Score is 1.0\n",
      "The Testing F1 Score is 0.7000000000000001\n"
     ]
    }
   ],
   "metadata": {}
  },
  {
   "cell_type": "markdown",
   "source": [
    "Woah! Some heavy overfitting there. Not just from looking at the graph, but also from looking at the difference between the high training score (1.0) and the low testing score (0.7).Let's see if we can find better hyperparameters for this model to do better. We'll use grid search for this.\n",
    "\n",
    "### 4. (TODO) Use grid search to improve this model.\n",
    "\n",
    "In here, we'll do the following steps:\n",
    "1. First define some parameters to perform grid search on. We suggest to play with `max_depth`, `min_samples_leaf`, and `min_samples_split`.\n",
    "2. Make a scorer for the model using `f1_score`.\n",
    "3. Perform grid search on the classifier, using the parameters and the scorer.\n",
    "4. Fit the data to the new classifier.\n",
    "5. Plot the model and find the f1_score.\n",
    "6. If the model is not much better, try changing the ranges for the parameters and fit it again.\n",
    "\n",
    "**_Hint:_ If you're stuck and would like to see a working solution, check the solutions notebook in this same folder.**"
   ],
   "metadata": {}
  },
  {
   "cell_type": "code",
   "execution_count": 10,
   "source": [
    "from sklearn.metrics import make_scorer\r\n",
    "from sklearn.model_selection import GridSearchCV\r\n",
    "\r\n",
    "clf = DecisionTreeClassifier(random_state=42)\r\n",
    "\r\n",
    "# TODO: Create the parameters list you wish to tune.,\r\n",
    "parameters = {'max_depth':[2, 6, 3, 4, 5,7,8,9, 10], 'min_samples_leaf':[2,3,4,7,9,5,8,10,11,6], 'min_samples_split':[2,3,5,7,9,11,4,6,8]}\r\n",
    "\r\n",
    "# TODO: Make an fbeta_score scoring object.\r\n",
    "scorer = make_scorer(f1_score)\r\n",
    "\r\n",
    "# TODO: Perform grid search on the classifier using 'scorer' as the scoring method.\r\n",
    "grid_obj = GridSearchCV(clf, parameters, scoring=scorer)\r\n",
    "\r\n",
    "# TODO: Fit the grid search object to the training data and find the optimal parameters.\r\n",
    "grid_fit = grid_obj.fit(X_train, y_train)\r\n",
    "\r\n",
    "# TODO: Get the estimator.\r\n",
    "best_clf = grid_fit.best_estimator_\r\n",
    "\r\n",
    "# Fit the new model.\r\n",
    "best_clf.fit(X_train, y_train)\r\n",
    "\r\n",
    "# Make predictions using the new model.\r\n",
    "best_train_predictions = best_clf.predict(X_train)\r\n",
    "best_test_predictions = best_clf.predict(X_test)\r\n",
    "\r\n",
    "# Calculate the f1_score of the new model.\r\n",
    "print('The training F1 Score is', f1_score(best_train_predictions, y_train))\r\n",
    "print('The testing F1 Score is', f1_score(best_test_predictions, y_test))\r\n",
    "\r\n",
    "# Plot the new model.\r\n",
    "plot_model(X, y, best_clf)\r\n",
    "\r\n",
    "# Let's also explore what parameters ended up being used in the new model.\r\n",
    "best_clf"
   ],
   "outputs": [
    {
     "output_type": "stream",
     "name": "stdout",
     "text": [
      "The training F1 Score is 0.8148148148148148\n",
      "The testing F1 Score is 0.8\n"
     ]
    },
    {
     "output_type": "display_data",
     "data": {
      "text/plain": [
       "<Figure size 432x288 with 1 Axes>"
      ],
      "image/png": "[encoded data removed]"
     },
     "metadata": {
      "needs_background": "light"
     }
    },
    {
     "output_type": "execute_result",
     "data": {
      "text/plain": [
       "DecisionTreeClassifier(max_depth=4, min_samples_leaf=4, random_state=42)"
      ]
     },
     "metadata": {},
     "execution_count": 10
    }
   ],
   "metadata": {}
  }
 ],
 "metadata": {
  "kernelspec": {
   "name": "python3",
   "display_name": "Python 3.9.4 64-bit"
  },
  "language_info": {
   "codemirror_mode": {
    "name": "ipython",
    "version": 3
   },
   "file_extension": ".py",
   "mimetype": "text/x-python",
   "name": "python",
   "nbconvert_exporter": "python",
   "pygments_lexer": "ipython3",
   "version": "3.9.4"
  },
  "interpreter": {
   "hash": "c847c6e972454b29a089ff441ac7748bdb3ebfe236f9ff01197d59c725715b4d"
  }
 },
 "nbformat": 4,
 "nbformat_minor": 2
}