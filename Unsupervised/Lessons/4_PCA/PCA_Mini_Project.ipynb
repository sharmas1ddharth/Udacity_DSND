{
 "cells": [
  {
   "cell_type": "markdown",
   "source": [
    "### PCA Mini Project\n",
    "\n",
    "In the lesson, you saw how you could use PCA to substantially reduce the dimensionality of the handwritten digits.  In this mini-project, you will be using the **cars.csv** file.  \n",
    "\n",
    "To begin, run the cell below to read in the necessary libraries and the dataset.  I also read in the helper functions that you used throughout the lesson in case you might find them helpful in completing this project.  Otherwise, you can always create functions of your own!"
   ],
   "metadata": {}
  },
  {
   "cell_type": "code",
   "execution_count": 1,
   "source": [
    "import pandas as pd\r\n",
    "import numpy as np\r\n",
    "from sklearn.decomposition import PCA\r\n",
    "from sklearn.preprocessing import StandardScaler\r\n",
    "from sklearn.ensemble import RandomForestClassifier\r\n",
    "from sklearn.model_selection import train_test_split\r\n",
    "from sklearn.metrics import confusion_matrix, accuracy_score\r\n",
    "from helper_functions import do_pca, scree_plot, plot_components, pca_results\r\n",
    "from IPython import display\r\n",
    "import test_code2 as t\r\n",
    "\r\n",
    "import matplotlib.pyplot as plt\r\n",
    "import seaborn as sns\r\n",
    "\r\n",
    "%matplotlib inline\r\n",
    "\r\n",
    "df = pd.read_csv('./data/cars.csv')"
   ],
   "outputs": [],
   "metadata": {
    "collapsed": true
   }
  },
  {
   "cell_type": "markdown",
   "source": [
    "`1.` Now your data is stored in **df**.  Use the below cells to take a look your dataset.  At the end of your exploration, use your findings to match the appropriate variable to each key in the dictionary below.  "
   ],
   "metadata": {}
  },
  {
   "cell_type": "code",
   "execution_count": 2,
   "source": [
    "#Use this cell for work\r\n",
    "df.head()"
   ],
   "outputs": [
    {
     "output_type": "execute_result",
     "data": {
      "text/plain": [
       "                         Sports  SUV  Wagon  Minivan  Pickup  AWD  RWD  \\\n",
       "Acura 3.5 RL                  0    0      0        0       0    0    0   \n",
       "Acura 3.5 RL Navigation       0    0      0        0       0    0    0   \n",
       "Acura MDX                     0    1      0        0       0    1    0   \n",
       "Acura NSX S                   1    0      0        0       0    0    1   \n",
       "Acura RSX                     0    0      0        0       0    0    0   \n",
       "\n",
       "                         Retail  Dealer  Engine  Cylinders  Horsepower  \\\n",
       "Acura 3.5 RL              43755   39014     3.5          6         225   \n",
       "Acura 3.5 RL Navigation   46100   41100     3.5          6         225   \n",
       "Acura MDX                 36945   33337     3.5          6         265   \n",
       "Acura NSX S               89765   79978     3.2          6         290   \n",
       "Acura RSX                 23820   21761     2.0          4         200   \n",
       "\n",
       "                         CityMPG  HighwayMPG  Weight  Wheelbase  Length  Width  \n",
       "Acura 3.5 RL                  18          24    3880        115     197     72  \n",
       "Acura 3.5 RL Navigation       18          24    3893        115     197     72  \n",
       "Acura MDX                     17          23    4451        106     189     77  \n",
       "Acura NSX S                   17          24    3153        100     174     71  \n",
       "Acura RSX                     24          31    2778        101     172     68  "
      ],
      "text/html": [
       "<div>\n",
       "<style scoped>\n",
       "    .dataframe tbody tr th:only-of-type {\n",
       "        vertical-align: middle;\n",
       "    }\n",
       "\n",
       "    .dataframe tbody tr th {\n",
       "        vertical-align: top;\n",
       "    }\n",
       "\n",
       "    .dataframe thead th {\n",
       "        text-align: right;\n",
       "    }\n",
       "</style>\n",
       "<table border=\"1\" class=\"dataframe\">\n",
       "  <thead>\n",
       "    <tr style=\"text-align: right;\">\n",
       "      <th></th>\n",
       "      <th>Sports</th>\n",
       "      <th>SUV</th>\n",
       "      <th>Wagon</th>\n",
       "      <th>Minivan</th>\n",
       "      <th>Pickup</th>\n",
       "      <th>AWD</th>\n",
       "      <th>RWD</th>\n",
       "      <th>Retail</th>\n",
       "      <th>Dealer</th>\n",
       "      <th>Engine</th>\n",
       "      <th>Cylinders</th>\n",
       "      <th>Horsepower</th>\n",
       "      <th>CityMPG</th>\n",
       "      <th>HighwayMPG</th>\n",
       "      <th>Weight</th>\n",
       "      <th>Wheelbase</th>\n",
       "      <th>Length</th>\n",
       "      <th>Width</th>\n",
       "    </tr>\n",
       "  </thead>\n",
       "  <tbody>\n",
       "    <tr>\n",
       "      <th>Acura 3.5 RL</th>\n",
       "      <td>0</td>\n",
       "      <td>0</td>\n",
       "      <td>0</td>\n",
       "      <td>0</td>\n",
       "      <td>0</td>\n",
       "      <td>0</td>\n",
       "      <td>0</td>\n",
       "      <td>43755</td>\n",
       "      <td>39014</td>\n",
       "      <td>3.5</td>\n",
       "      <td>6</td>\n",
       "      <td>225</td>\n",
       "      <td>18</td>\n",
       "      <td>24</td>\n",
       "      <td>3880</td>\n",
       "      <td>115</td>\n",
       "      <td>197</td>\n",
       "      <td>72</td>\n",
       "    </tr>\n",
       "    <tr>\n",
       "      <th>Acura 3.5 RL Navigation</th>\n",
       "      <td>0</td>\n",
       "      <td>0</td>\n",
       "      <td>0</td>\n",
       "      <td>0</td>\n",
       "      <td>0</td>\n",
       "      <td>0</td>\n",
       "      <td>0</td>\n",
       "      <td>46100</td>\n",
       "      <td>41100</td>\n",
       "      <td>3.5</td>\n",
       "      <td>6</td>\n",
       "      <td>225</td>\n",
       "      <td>18</td>\n",
       "      <td>24</td>\n",
       "      <td>3893</td>\n",
       "      <td>115</td>\n",
       "      <td>197</td>\n",
       "      <td>72</td>\n",
       "    </tr>\n",
       "    <tr>\n",
       "      <th>Acura MDX</th>\n",
       "      <td>0</td>\n",
       "      <td>1</td>\n",
       "      <td>0</td>\n",
       "      <td>0</td>\n",
       "      <td>0</td>\n",
       "      <td>1</td>\n",
       "      <td>0</td>\n",
       "      <td>36945</td>\n",
       "      <td>33337</td>\n",
       "      <td>3.5</td>\n",
       "      <td>6</td>\n",
       "      <td>265</td>\n",
       "      <td>17</td>\n",
       "      <td>23</td>\n",
       "      <td>4451</td>\n",
       "      <td>106</td>\n",
       "      <td>189</td>\n",
       "      <td>77</td>\n",
       "    </tr>\n",
       "    <tr>\n",
       "      <th>Acura NSX S</th>\n",
       "      <td>1</td>\n",
       "      <td>0</td>\n",
       "      <td>0</td>\n",
       "      <td>0</td>\n",
       "      <td>0</td>\n",
       "      <td>0</td>\n",
       "      <td>1</td>\n",
       "      <td>89765</td>\n",
       "      <td>79978</td>\n",
       "      <td>3.2</td>\n",
       "      <td>6</td>\n",
       "      <td>290</td>\n",
       "      <td>17</td>\n",
       "      <td>24</td>\n",
       "      <td>3153</td>\n",
       "      <td>100</td>\n",
       "      <td>174</td>\n",
       "      <td>71</td>\n",
       "    </tr>\n",
       "    <tr>\n",
       "      <th>Acura RSX</th>\n",
       "      <td>0</td>\n",
       "      <td>0</td>\n",
       "      <td>0</td>\n",
       "      <td>0</td>\n",
       "      <td>0</td>\n",
       "      <td>0</td>\n",
       "      <td>0</td>\n",
       "      <td>23820</td>\n",
       "      <td>21761</td>\n",
       "      <td>2.0</td>\n",
       "      <td>4</td>\n",
       "      <td>200</td>\n",
       "      <td>24</td>\n",
       "      <td>31</td>\n",
       "      <td>2778</td>\n",
       "      <td>101</td>\n",
       "      <td>172</td>\n",
       "      <td>68</td>\n",
       "    </tr>\n",
       "  </tbody>\n",
       "</table>\n",
       "</div>"
      ]
     },
     "metadata": {},
     "execution_count": 2
    }
   ],
   "metadata": {
    "collapsed": true
   }
  },
  {
   "cell_type": "code",
   "execution_count": 18,
   "source": [
    "# and this one\r\n",
    "df['Retail'].dtype"
   ],
   "outputs": [
    {
     "output_type": "execute_result",
     "data": {
      "text/plain": [
       "dtype('int64')"
      ]
     },
     "metadata": {},
     "execution_count": 18
    }
   ],
   "metadata": {
    "collapsed": true
   }
  },
  {
   "cell_type": "code",
   "execution_count": 22,
   "source": [
    "# and this one if you need it - and create more cells if you need them\r\n",
    "df.describe()"
   ],
   "outputs": [
    {
     "output_type": "execute_result",
     "data": {
      "text/plain": [
       "           Sports         SUV       Wagon     Minivan  Pickup         AWD  \\\n",
       "count  387.000000  387.000000  387.000000  387.000000   387.0  387.000000   \n",
       "mean     0.116279    0.152455    0.072351    0.054264     0.0    0.201550   \n",
       "std      0.320974    0.359926    0.259404    0.226830     0.0    0.401677   \n",
       "min      0.000000    0.000000    0.000000    0.000000     0.0    0.000000   \n",
       "25%      0.000000    0.000000    0.000000    0.000000     0.0    0.000000   \n",
       "50%      0.000000    0.000000    0.000000    0.000000     0.0    0.000000   \n",
       "75%      0.000000    0.000000    0.000000    0.000000     0.0    0.000000   \n",
       "max      1.000000    1.000000    1.000000    1.000000     0.0    1.000000   \n",
       "\n",
       "              RWD         Retail         Dealer      Engine   Cylinders  \\\n",
       "count  387.000000     387.000000     387.000000  387.000000  387.000000   \n",
       "mean     0.242894   33231.180879   30440.653747    3.127390    5.757106   \n",
       "std      0.429387   19724.634576   17901.179282    1.014314    1.490182   \n",
       "min      0.000000   10280.000000    9875.000000    1.400000    3.000000   \n",
       "25%      0.000000   20997.000000   19575.000000    2.300000    4.000000   \n",
       "50%      0.000000   28495.000000   26155.000000    3.000000    6.000000   \n",
       "75%      0.000000   39552.500000   36124.000000    3.800000    6.000000   \n",
       "max      1.000000  192465.000000  173560.000000    6.000000   12.000000   \n",
       "\n",
       "       Horsepower     CityMPG  HighwayMPG       Weight   Wheelbase  \\\n",
       "count  387.000000  387.000000  387.000000   387.000000  387.000000   \n",
       "mean   214.444444   20.312661   27.263566  3532.457364  107.211886   \n",
       "std     70.262822    5.262333    5.636005   706.003622    7.086553   \n",
       "min     73.000000   10.000000   12.000000  1850.000000   89.000000   \n",
       "25%    165.000000   18.000000   24.000000  3107.000000  103.000000   \n",
       "50%    210.000000   19.000000   27.000000  3469.000000  107.000000   \n",
       "75%    250.000000   21.500000   30.000000  3922.000000  112.000000   \n",
       "max    493.000000   60.000000   66.000000  6400.000000  130.000000   \n",
       "\n",
       "           Length       Width  \n",
       "count  387.000000  387.000000  \n",
       "mean   184.961240   71.276486  \n",
       "std     13.237999    3.368329  \n",
       "min    143.000000   64.000000  \n",
       "25%    177.000000   69.000000  \n",
       "50%    186.000000   71.000000  \n",
       "75%    193.000000   73.000000  \n",
       "max    221.000000   81.000000  "
      ],
      "text/html": [
       "<div>\n",
       "<style scoped>\n",
       "    .dataframe tbody tr th:only-of-type {\n",
       "        vertical-align: middle;\n",
       "    }\n",
       "\n",
       "    .dataframe tbody tr th {\n",
       "        vertical-align: top;\n",
       "    }\n",
       "\n",
       "    .dataframe thead th {\n",
       "        text-align: right;\n",
       "    }\n",
       "</style>\n",
       "<table border=\"1\" class=\"dataframe\">\n",
       "  <thead>\n",
       "    <tr style=\"text-align: right;\">\n",
       "      <th></th>\n",
       "      <th>Sports</th>\n",
       "      <th>SUV</th>\n",
       "      <th>Wagon</th>\n",
       "      <th>Minivan</th>\n",
       "      <th>Pickup</th>\n",
       "      <th>AWD</th>\n",
       "      <th>RWD</th>\n",
       "      <th>Retail</th>\n",
       "      <th>Dealer</th>\n",
       "      <th>Engine</th>\n",
       "      <th>Cylinders</th>\n",
       "      <th>Horsepower</th>\n",
       "      <th>CityMPG</th>\n",
       "      <th>HighwayMPG</th>\n",
       "      <th>Weight</th>\n",
       "      <th>Wheelbase</th>\n",
       "      <th>Length</th>\n",
       "      <th>Width</th>\n",
       "    </tr>\n",
       "  </thead>\n",
       "  <tbody>\n",
       "    <tr>\n",
       "      <th>count</th>\n",
       "      <td>387.000000</td>\n",
       "      <td>387.000000</td>\n",
       "      <td>387.000000</td>\n",
       "      <td>387.000000</td>\n",
       "      <td>387.0</td>\n",
       "      <td>387.000000</td>\n",
       "      <td>387.000000</td>\n",
       "      <td>387.000000</td>\n",
       "      <td>387.000000</td>\n",
       "      <td>387.000000</td>\n",
       "      <td>387.000000</td>\n",
       "      <td>387.000000</td>\n",
       "      <td>387.000000</td>\n",
       "      <td>387.000000</td>\n",
       "      <td>387.000000</td>\n",
       "      <td>387.000000</td>\n",
       "      <td>387.000000</td>\n",
       "      <td>387.000000</td>\n",
       "    </tr>\n",
       "    <tr>\n",
       "      <th>mean</th>\n",
       "      <td>0.116279</td>\n",
       "      <td>0.152455</td>\n",
       "      <td>0.072351</td>\n",
       "      <td>0.054264</td>\n",
       "      <td>0.0</td>\n",
       "      <td>0.201550</td>\n",
       "      <td>0.242894</td>\n",
       "      <td>33231.180879</td>\n",
       "      <td>30440.653747</td>\n",
       "      <td>3.127390</td>\n",
       "      <td>5.757106</td>\n",
       "      <td>214.444444</td>\n",
       "      <td>20.312661</td>\n",
       "      <td>27.263566</td>\n",
       "      <td>3532.457364</td>\n",
       "      <td>107.211886</td>\n",
       "      <td>184.961240</td>\n",
       "      <td>71.276486</td>\n",
       "    </tr>\n",
       "    <tr>\n",
       "      <th>std</th>\n",
       "      <td>0.320974</td>\n",
       "      <td>0.359926</td>\n",
       "      <td>0.259404</td>\n",
       "      <td>0.226830</td>\n",
       "      <td>0.0</td>\n",
       "      <td>0.401677</td>\n",
       "      <td>0.429387</td>\n",
       "      <td>19724.634576</td>\n",
       "      <td>17901.179282</td>\n",
       "      <td>1.014314</td>\n",
       "      <td>1.490182</td>\n",
       "      <td>70.262822</td>\n",
       "      <td>5.262333</td>\n",
       "      <td>5.636005</td>\n",
       "      <td>706.003622</td>\n",
       "      <td>7.086553</td>\n",
       "      <td>13.237999</td>\n",
       "      <td>3.368329</td>\n",
       "    </tr>\n",
       "    <tr>\n",
       "      <th>min</th>\n",
       "      <td>0.000000</td>\n",
       "      <td>0.000000</td>\n",
       "      <td>0.000000</td>\n",
       "      <td>0.000000</td>\n",
       "      <td>0.0</td>\n",
       "      <td>0.000000</td>\n",
       "      <td>0.000000</td>\n",
       "      <td>10280.000000</td>\n",
       "      <td>9875.000000</td>\n",
       "      <td>1.400000</td>\n",
       "      <td>3.000000</td>\n",
       "      <td>73.000000</td>\n",
       "      <td>10.000000</td>\n",
       "      <td>12.000000</td>\n",
       "      <td>1850.000000</td>\n",
       "      <td>89.000000</td>\n",
       "      <td>143.000000</td>\n",
       "      <td>64.000000</td>\n",
       "    </tr>\n",
       "    <tr>\n",
       "      <th>25%</th>\n",
       "      <td>0.000000</td>\n",
       "      <td>0.000000</td>\n",
       "      <td>0.000000</td>\n",
       "      <td>0.000000</td>\n",
       "      <td>0.0</td>\n",
       "      <td>0.000000</td>\n",
       "      <td>0.000000</td>\n",
       "      <td>20997.000000</td>\n",
       "      <td>19575.000000</td>\n",
       "      <td>2.300000</td>\n",
       "      <td>4.000000</td>\n",
       "      <td>165.000000</td>\n",
       "      <td>18.000000</td>\n",
       "      <td>24.000000</td>\n",
       "      <td>3107.000000</td>\n",
       "      <td>103.000000</td>\n",
       "      <td>177.000000</td>\n",
       "      <td>69.000000</td>\n",
       "    </tr>\n",
       "    <tr>\n",
       "      <th>50%</th>\n",
       "      <td>0.000000</td>\n",
       "      <td>0.000000</td>\n",
       "      <td>0.000000</td>\n",
       "      <td>0.000000</td>\n",
       "      <td>0.0</td>\n",
       "      <td>0.000000</td>\n",
       "      <td>0.000000</td>\n",
       "      <td>28495.000000</td>\n",
       "      <td>26155.000000</td>\n",
       "      <td>3.000000</td>\n",
       "      <td>6.000000</td>\n",
       "      <td>210.000000</td>\n",
       "      <td>19.000000</td>\n",
       "      <td>27.000000</td>\n",
       "      <td>3469.000000</td>\n",
       "      <td>107.000000</td>\n",
       "      <td>186.000000</td>\n",
       "      <td>71.000000</td>\n",
       "    </tr>\n",
       "    <tr>\n",
       "      <th>75%</th>\n",
       "      <td>0.000000</td>\n",
       "      <td>0.000000</td>\n",
       "      <td>0.000000</td>\n",
       "      <td>0.000000</td>\n",
       "      <td>0.0</td>\n",
       "      <td>0.000000</td>\n",
       "      <td>0.000000</td>\n",
       "      <td>39552.500000</td>\n",
       "      <td>36124.000000</td>\n",
       "      <td>3.800000</td>\n",
       "      <td>6.000000</td>\n",
       "      <td>250.000000</td>\n",
       "      <td>21.500000</td>\n",
       "      <td>30.000000</td>\n",
       "      <td>3922.000000</td>\n",
       "      <td>112.000000</td>\n",
       "      <td>193.000000</td>\n",
       "      <td>73.000000</td>\n",
       "    </tr>\n",
       "    <tr>\n",
       "      <th>max</th>\n",
       "      <td>1.000000</td>\n",
       "      <td>1.000000</td>\n",
       "      <td>1.000000</td>\n",
       "      <td>1.000000</td>\n",
       "      <td>0.0</td>\n",
       "      <td>1.000000</td>\n",
       "      <td>1.000000</td>\n",
       "      <td>192465.000000</td>\n",
       "      <td>173560.000000</td>\n",
       "      <td>6.000000</td>\n",
       "      <td>12.000000</td>\n",
       "      <td>493.000000</td>\n",
       "      <td>60.000000</td>\n",
       "      <td>66.000000</td>\n",
       "      <td>6400.000000</td>\n",
       "      <td>130.000000</td>\n",
       "      <td>221.000000</td>\n",
       "      <td>81.000000</td>\n",
       "    </tr>\n",
       "  </tbody>\n",
       "</table>\n",
       "</div>"
      ]
     },
     "metadata": {},
     "execution_count": 22
    }
   ],
   "metadata": {
    "collapsed": true
   }
  },
  {
   "cell_type": "code",
   "execution_count": 19,
   "source": [
    "a = 7\r\n",
    "b = 66\r\n",
    "c = 387\r\n",
    "d = 18\r\n",
    "e = 0.23\r\n",
    "f = 0.05\r\n",
    "\r\n",
    "solution_1_dict = {\r\n",
    "    'The number of cars in the dataset': c,\r\n",
    "    'The number of car features in the dataset': d,\r\n",
    "    'The number of dummy variables in the dataset': a,\r\n",
    "    'The proportion of minivans in the dataset': f,\r\n",
    "    'The max highway mpg for any car': b,\r\n",
    "}"
   ],
   "outputs": [],
   "metadata": {
    "collapsed": true
   }
  },
  {
   "cell_type": "code",
   "execution_count": 20,
   "source": [
    "# Check your solution against ours by running this cell\r\n",
    "display.HTML(t.check_question_one(solution_1_dict))"
   ],
   "outputs": [
    {
     "output_type": "stream",
     "name": "stdout",
     "text": [
      "Nice job!  Looks like your dataset matches what we found!\n"
     ]
    },
    {
     "output_type": "execute_result",
     "data": {
      "text/plain": [
       "<IPython.core.display.HTML object>"
      ],
      "text/html": [
       "<img src=\"https://bit.ly/2K9X0gD\">"
      ]
     },
     "metadata": {},
     "execution_count": 20
    }
   ],
   "metadata": {
    "collapsed": true
   }
  },
  {
   "cell_type": "markdown",
   "source": [
    "`2.` There are some particularly nice properties about PCA to keep in mind.  Use the dictionary below to match the correct variable as the key to each statement.  When you are ready, check your solution against ours by running the following cell."
   ],
   "metadata": {}
  },
  {
   "cell_type": "code",
   "execution_count": 25,
   "source": [
    "a = True\r\n",
    "b = False\r\n",
    "\r\n",
    "solution_2_dict = {\r\n",
    "    'The components span the directions of maximum variability.': a,\r\n",
    "    'The components are always orthogonal to one another.': a,\r\n",
    "    'Eigenvalues tell us the amount of information a component holds': a\r\n",
    "}"
   ],
   "outputs": [],
   "metadata": {
    "collapsed": true
   }
  },
  {
   "cell_type": "code",
   "execution_count": 26,
   "source": [
    "# Check your solution against ours by running this cell\r\n",
    "t.check_question_two(solution_2_dict)"
   ],
   "outputs": [
    {
     "output_type": "stream",
     "name": "stdout",
     "text": [
      "That's right these are all true.  Principal components are orthogonal, span the directions of maximum variability, and the corresponding eigenvalues tell us how much of the original variability is explained by each component.\n"
     ]
    }
   ],
   "metadata": {
    "collapsed": true
   }
  },
  {
   "cell_type": "markdown",
   "source": [
    "`3.` Fit PCA to reduce the current dimensionality of the datset to 3 dimensions.  You can use the helper functions, or perform the steps on your own.  If you fit on your own, be sure to standardize your data.  At the end of this process, you will want an **X** matrix with the reduced dimensionality to only 3 features.  Additionally, you will want your **pca** object back that has been used to fit and transform your dataset. "
   ],
   "metadata": {}
  },
  {
   "cell_type": "code",
   "execution_count": 41,
   "source": [
    "#Scale your data, fit, and transform using pca\r\n",
    "#you need a pca object and your transformed data matrix\r\n",
    "\r\n",
    "pca, X_pca = do_pca(3, df)\r\n"
   ],
   "outputs": [],
   "metadata": {
    "collapsed": true
   }
  },
  {
   "cell_type": "markdown",
   "source": [
    "`4.` Once you have your pca object, you can take a closer look at what comprises each of the principal components.  Use the **pca_results** function from the **helper_functions** module assist with taking a closer look at the results of your analysis.  The function takes two arguments: the full dataset and the pca object you created."
   ],
   "metadata": {}
  },
  {
   "cell_type": "code",
   "execution_count": 42,
   "source": [
    "pca_results(df, pca)"
   ],
   "outputs": [
    {
     "output_type": "error",
     "ename": "TypeError",
     "evalue": "'tuple' object is not callable",
     "traceback": [
      "\u001b[1;31m---------------------------------------------------------------------------\u001b[0m",
      "\u001b[1;31mTypeError\u001b[0m                                 Traceback (most recent call last)",
      "\u001b[1;32mC:\\Users\\SIDDHA~1\\AppData\\Local\\Temp/ipykernel_13116/1256059960.py\u001b[0m in \u001b[0;36m<module>\u001b[1;34m\u001b[0m\n\u001b[1;32m----> 1\u001b[1;33m \u001b[0mpca_results\u001b[0m\u001b[1;33m(\u001b[0m\u001b[0mdf\u001b[0m\u001b[1;33m,\u001b[0m \u001b[0mpca\u001b[0m\u001b[1;33m)\u001b[0m\u001b[1;33m\u001b[0m\u001b[1;33m\u001b[0m\u001b[0m\n\u001b[0m",
      "\u001b[1;31mTypeError\u001b[0m: 'tuple' object is not callable"
     ]
    }
   ],
   "metadata": {}
  },
  {
   "cell_type": "markdown",
   "source": [
    "`5.` Use the results, to match each of the variables as the value to the most appropriate key in the dictionary below.  When you are ready to check your answers, run the following cell to see if your solution matches ours!"
   ],
   "metadata": {}
  },
  {
   "cell_type": "code",
   "execution_count": 43,
   "source": [
    "a = 'car weight'\r\n",
    "b = 'sports cars'\r\n",
    "c = 'gas mileage'\r\n",
    "d = 0.4352\r\n",
    "e = 0.3061\r\n",
    "f = 0.1667\r\n",
    "g = 0.7053\r\n",
    "\r\n",
    "solution_5_dict = {\r\n",
    "    'The first component positively weights items related to': c, \r\n",
    "    'The amount of variability explained by the first component is': d,\r\n",
    "    'The largest weight of the second component is related to': b,\r\n",
    "    'The total amount of variability explained by the first three components': g\r\n",
    "}"
   ],
   "outputs": [],
   "metadata": {
    "collapsed": true
   }
  },
  {
   "cell_type": "code",
   "execution_count": 44,
   "source": [
    "# Run this cell to check if your solution matches ours.\r\n",
    "t.check_question_five(solution_5_dict)"
   ],
   "outputs": [
    {
     "output_type": "stream",
     "name": "stdout",
     "text": [
      "That's right!  Looks like you know a lot about PCA!\n"
     ]
    }
   ],
   "metadata": {
    "collapsed": true
   }
  },
  {
   "cell_type": "markdown",
   "source": [
    "`6.` How many components need to be kept to explain at least 85% of the variability in the original dataset?  When you think you have the answer, store it in the variable `num_comps`.  Then run the following cell to see if your solution matches ours!"
   ],
   "metadata": {}
  },
  {
   "cell_type": "code",
   "execution_count": 46,
   "source": [
    "for comp in range(3, df.shape[1]):\r\n",
    "    pca, xpca = do_pca(comp, df)\r\n",
    "    comp_check = pca_results(df, pca)\r\n",
    "    if comp_check['Explained Variance'].sum() > 0.85:\r\n",
    "        break"
   ],
   "outputs": [
    {
     "output_type": "error",
     "ename": "TypeError",
     "evalue": "'tuple' object is not callable",
     "traceback": [
      "\u001b[1;31m---------------------------------------------------------------------------\u001b[0m",
      "\u001b[1;31mTypeError\u001b[0m                                 Traceback (most recent call last)",
      "\u001b[1;32mC:\\Users\\SIDDHA~1\\AppData\\Local\\Temp/ipykernel_13116/1854570013.py\u001b[0m in \u001b[0;36m<module>\u001b[1;34m\u001b[0m\n\u001b[0;32m      1\u001b[0m \u001b[1;32mfor\u001b[0m \u001b[0mcomp\u001b[0m \u001b[1;32min\u001b[0m \u001b[0mrange\u001b[0m\u001b[1;33m(\u001b[0m\u001b[1;36m3\u001b[0m\u001b[1;33m,\u001b[0m \u001b[0mdf\u001b[0m\u001b[1;33m.\u001b[0m\u001b[0mshape\u001b[0m\u001b[1;33m[\u001b[0m\u001b[1;36m1\u001b[0m\u001b[1;33m]\u001b[0m\u001b[1;33m)\u001b[0m\u001b[1;33m:\u001b[0m\u001b[1;33m\u001b[0m\u001b[1;33m\u001b[0m\u001b[0m\n\u001b[0;32m      2\u001b[0m     \u001b[0mpca\u001b[0m\u001b[1;33m,\u001b[0m \u001b[0mxpca\u001b[0m \u001b[1;33m=\u001b[0m \u001b[0mdo_pca\u001b[0m\u001b[1;33m(\u001b[0m\u001b[0mcomp\u001b[0m\u001b[1;33m,\u001b[0m \u001b[0mdf\u001b[0m\u001b[1;33m)\u001b[0m\u001b[1;33m\u001b[0m\u001b[1;33m\u001b[0m\u001b[0m\n\u001b[1;32m----> 3\u001b[1;33m     \u001b[0mcomp_check\u001b[0m \u001b[1;33m=\u001b[0m \u001b[0mpca_results\u001b[0m\u001b[1;33m(\u001b[0m\u001b[0mdf\u001b[0m\u001b[1;33m,\u001b[0m \u001b[0mpca\u001b[0m\u001b[1;33m)\u001b[0m\u001b[1;33m\u001b[0m\u001b[1;33m\u001b[0m\u001b[0m\n\u001b[0m\u001b[0;32m      4\u001b[0m     \u001b[1;32mif\u001b[0m \u001b[0mcomp_check\u001b[0m\u001b[1;33m[\u001b[0m\u001b[1;34m'Explained Variance'\u001b[0m\u001b[1;33m]\u001b[0m\u001b[1;33m.\u001b[0m\u001b[0msum\u001b[0m\u001b[1;33m(\u001b[0m\u001b[1;33m)\u001b[0m \u001b[1;33m>\u001b[0m \u001b[1;36m0.85\u001b[0m\u001b[1;33m:\u001b[0m\u001b[1;33m\u001b[0m\u001b[1;33m\u001b[0m\u001b[0m\n\u001b[0;32m      5\u001b[0m         \u001b[1;32mbreak\u001b[0m\u001b[1;33m\u001b[0m\u001b[1;33m\u001b[0m\u001b[0m\n",
      "\u001b[1;31mTypeError\u001b[0m: 'tuple' object is not callable"
     ]
    }
   ],
   "metadata": {}
  },
  {
   "cell_type": "code",
   "execution_count": 47,
   "source": [
    "#Code to find number of components providing more than \r\n",
    "# 85% of variance explained\r\n",
    "\r\n",
    "num_comps = 6"
   ],
   "outputs": [],
   "metadata": {
    "collapsed": true
   }
  },
  {
   "cell_type": "code",
   "execution_count": null,
   "source": [],
   "outputs": [],
   "metadata": {}
  },
  {
   "cell_type": "code",
   "execution_count": 48,
   "source": [
    "# Now check your answer here to complete this mini project!\r\n",
    "display.HTML(t.question_check_six(num_comps))"
   ],
   "outputs": [
    {
     "output_type": "stream",
     "name": "stdout",
     "text": [
      "Nice job!  That's right!  With 6 components, you can explain more than 85% of the variability in the original dataset.\n"
     ]
    },
    {
     "output_type": "execute_result",
     "data": {
      "text/plain": [
       "<IPython.core.display.HTML object>"
      ],
      "text/html": [
       "<img src=\"https://bit.ly/2cKTiso\">"
      ]
     },
     "metadata": {},
     "execution_count": 48
    }
   ],
   "metadata": {
    "collapsed": true
   }
  },
  {
   "cell_type": "code",
   "execution_count": null,
   "source": [],
   "outputs": [],
   "metadata": {
    "collapsed": true
   }
  }
 ],
 "metadata": {
  "kernelspec": {
   "name": "python3",
   "display_name": "Python 3.9.4 64-bit"
  },
  "language_info": {
   "codemirror_mode": {
    "name": "ipython",
    "version": 3
   },
   "file_extension": ".py",
   "mimetype": "text/x-python",
   "name": "python",
   "nbconvert_exporter": "python",
   "pygments_lexer": "ipython3",
   "version": "3.9.4"
  },
  "interpreter": {
   "hash": "c847c6e972454b29a089ff441ac7748bdb3ebfe236f9ff01197d59c725715b4d"
  }
 },
 "nbformat": 4,
 "nbformat_minor": 2
}