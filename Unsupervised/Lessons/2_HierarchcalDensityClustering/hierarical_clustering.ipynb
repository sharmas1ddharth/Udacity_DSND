{
  "nbformat": 4,
  "nbformat_minor": 0,
  "metadata": {
    "colab": {
      "name": "hierarical_clustering.ipynb",
      "provenance": []
    },
    "kernelspec": {
      "name": "python3",
      "display_name": "Python 3"
    },
    "language_info": {
      "name": "python"
    }
  },
  "cells": [
    {
      "cell_type": "code",
      "metadata": {
        "id": "gBhzj0G83xUq"
      },
      "source": [
        "from sklearn.datasets import load_iris\n",
        "import matplotlib.pyplot as plt\n",
        "%matplotlib inline"
      ],
      "execution_count": 51,
      "outputs": []
    },
    {
      "cell_type": "code",
      "metadata": {
        "colab": {
          "base_uri": "https://localhost:8080/"
        },
        "id": "Bs3-h0qS34cL",
        "outputId": "9fb761c8-3154-4477-e98c-73c24531bc80"
      },
      "source": [
        "iris = load_iris()\n",
        "iris.target"
      ],
      "execution_count": 27,
      "outputs": [
        {
          "output_type": "execute_result",
          "data": {
            "text/plain": [
              "array([0, 0, 0, 0, 0, 0, 0, 0, 0, 0, 0, 0, 0, 0, 0, 0, 0, 0, 0, 0, 0, 0,\n",
              "       0, 0, 0, 0, 0, 0, 0, 0, 0, 0, 0, 0, 0, 0, 0, 0, 0, 0, 0, 0, 0, 0,\n",
              "       0, 0, 0, 0, 0, 0, 1, 1, 1, 1, 1, 1, 1, 1, 1, 1, 1, 1, 1, 1, 1, 1,\n",
              "       1, 1, 1, 1, 1, 1, 1, 1, 1, 1, 1, 1, 1, 1, 1, 1, 1, 1, 1, 1, 1, 1,\n",
              "       1, 1, 1, 1, 1, 1, 1, 1, 1, 1, 1, 1, 2, 2, 2, 2, 2, 2, 2, 2, 2, 2,\n",
              "       2, 2, 2, 2, 2, 2, 2, 2, 2, 2, 2, 2, 2, 2, 2, 2, 2, 2, 2, 2, 2, 2,\n",
              "       2, 2, 2, 2, 2, 2, 2, 2, 2, 2, 2, 2, 2, 2, 2, 2, 2, 2])"
            ]
          },
          "metadata": {
            "tags": []
          },
          "execution_count": 27
        }
      ]
    },
    {
      "cell_type": "code",
      "metadata": {
        "id": "z_8gSgCW4fvU"
      },
      "source": [
        "from sklearn.cluster import AgglomerativeClustering\n",
        "from sklearn.metrics import adjusted_rand_score\n",
        "\n",
        "def score(prediction):\n",
        "  return adjusted_rand_score(iris.target, prediction)\n",
        "\n",
        "\n",
        "def predict_and_score(linkage, data):\n",
        "  model = AgglomerativeClustering(n_clusters=3, linkage=linkage)\n",
        "  model_pred = model.fit_predict(data)\n",
        "  model_score = score(model_pred)\n",
        "  return model_score"
      ],
      "execution_count": 44,
      "outputs": []
    },
    {
      "cell_type": "code",
      "metadata": {
        "colab": {
          "base_uri": "https://localhost:8080/"
        },
        "id": "7ot3oJ2w5mDH",
        "outputId": "4eda6c87-e382-4e2d-e336-1fd29c93c0a1"
      },
      "source": [
        "model_linkage = ['ward', 'complete', 'average', 'single']\n",
        "data = iris.data\n",
        "score_ls = [predict_and_score(l, data) for l in model_linkage ]\n",
        "\n",
        "print(f\"ward : {score_ls[0]}\\n\"\n",
        "      f\"complete : {score_ls[1]}\\n\"\n",
        "      f\"average : {score_ls[2]}\\n\"\n",
        "      f\"single : {score_ls[3]}\\n\")\n"
      ],
      "execution_count": 47,
      "outputs": [
        {
          "output_type": "stream",
          "text": [
            "ward : 0.7311985567707745\n",
            "complete : 0.64225125183629\n",
            "average : 0.7591987071071522\n",
            "single : 0.5637510205230709\n",
            "\n"
          ],
          "name": "stdout"
        }
      ]
    },
    {
      "cell_type": "code",
      "metadata": {
        "colab": {
          "base_uri": "https://localhost:8080/"
        },
        "id": "vfFE9_Va7988",
        "outputId": "9f0ac0b0-0f36-4f30-9647-f062e81abd29"
      },
      "source": [
        "# normalize data for improvement\n",
        "\n",
        "from sklearn.preprocessing import normalize\n",
        "norm_x = normalize(iris.data)\n",
        "norm_x_score = [predict_and_score(l, norm_x) for l in model_linkage]\n",
        "\n",
        "print(f\"ward : {norm_x_score[0]}\\n\"\n",
        "      f\"complete : {norm_x_score[1]}\\n\"\n",
        "      f\"average : {norm_x_score[2]}\\n\"\n",
        "      f\"single : {norm_x_score[3]}\\n\")\n",
        "\n"
      ],
      "execution_count": 45,
      "outputs": [
        {
          "output_type": "stream",
          "text": [
            "ward : 0.8856970310281228\n",
            "complete : 0.644447235392006\n",
            "average : 0.5583714437541352\n",
            "single : 0.5583714437541352\n",
            "\n"
          ],
          "name": "stdout"
        }
      ]
    },
    {
      "cell_type": "code",
      "metadata": {
        "colab": {
          "base_uri": "https://localhost:8080/"
        },
        "id": "pBiEfnBw_lpF",
        "outputId": "e000c811-1957-4b5f-d679-89e6900aee3a"
      },
      "source": [
        "# visualize the dandogram\n",
        "from scipy.cluster.hierarchy import linkage\n",
        "\n",
        "linkage_type = 'ward'\n",
        "linkage_matrix = linkage(norm_x, linkage_type)\n",
        "linkage_matrix"
      ],
      "execution_count": 49,
      "outputs": [
        {
          "output_type": "execute_result",
          "data": {
            "text/plain": [
              "array([[1.01000000e+02, 1.42000000e+02, 0.00000000e+00, 2.00000000e+00],\n",
              "       [1.02000000e+02, 1.11000000e+02, 1.90111713e-03, 2.00000000e+00],\n",
              "       [0.00000000e+00, 1.00000000e+01, 3.27567062e-03, 2.00000000e+00],\n",
              "       [5.00000000e+01, 7.40000000e+01, 3.88428902e-03, 2.00000000e+00],\n",
              "       [6.50000000e+01, 7.10000000e+01, 4.24945677e-03, 2.00000000e+00],\n",
              "       [1.13000000e+02, 1.32000000e+02, 4.67050611e-03, 2.00000000e+00],\n",
              "       [3.50000000e+01, 3.60000000e+01, 4.68183801e-03, 2.00000000e+00],\n",
              "       [5.80000000e+01, 8.00000000e+01, 4.88670468e-03, 2.00000000e+00],\n",
              "       [1.35000000e+02, 1.46000000e+02, 5.16223015e-03, 2.00000000e+00],\n",
              "       [2.00000000e+00, 1.52000000e+02, 5.70112468e-03, 3.00000000e+00],\n",
              "       [7.00000000e+00, 3.80000000e+01, 5.87876302e-03, 2.00000000e+00],\n",
              "       [2.70000000e+01, 3.90000000e+01, 6.71354429e-03, 2.00000000e+00],\n",
              "       [9.10000000e+01, 9.40000000e+01, 6.93635227e-03, 2.00000000e+00],\n",
              "       [1.27000000e+02, 1.38000000e+02, 7.03575776e-03, 2.00000000e+00],\n",
              "       [1.17000000e+02, 1.37000000e+02, 7.28454767e-03, 2.00000000e+00],\n",
              "       [6.90000000e+01, 1.57000000e+02, 7.28641710e-03, 3.00000000e+00],\n",
              "       [2.00000000e+01, 3.40000000e+01, 8.12201943e-03, 2.00000000e+00],\n",
              "       [2.80000000e+01, 4.90000000e+01, 9.03595236e-03, 2.00000000e+00],\n",
              "       [8.20000000e+01, 9.30000000e+01, 9.20977662e-03, 2.00000000e+00],\n",
              "       [6.00000000e+01, 7.60000000e+01, 9.31659087e-03, 2.00000000e+00],\n",
              "       [1.08000000e+02, 1.22000000e+02, 9.78577687e-03, 2.00000000e+00],\n",
              "       [7.50000000e+01, 1.53000000e+02, 1.03161835e-02, 3.00000000e+00],\n",
              "       [6.00000000e+00, 1.90000000e+01, 1.04799328e-02, 2.00000000e+00],\n",
              "       [1.68000000e+02, 1.71000000e+02, 1.04922769e-02, 5.00000000e+00],\n",
              "       [1.26000000e+02, 1.39000000e+02, 1.08590883e-02, 2.00000000e+00],\n",
              "       [8.30000000e+01, 1.16000000e+02, 1.09903130e-02, 2.00000000e+00],\n",
              "       [3.00000000e+00, 8.00000000e+00, 1.10099656e-02, 2.00000000e+00],\n",
              "       [5.60000000e+01, 5.90000000e+01, 1.16675134e-02, 2.00000000e+00],\n",
              "       [1.04000000e+02, 1.50000000e+02, 1.17716573e-02, 3.00000000e+00],\n",
              "       [1.19000000e+02, 1.30000000e+02, 1.17953321e-02, 2.00000000e+00],\n",
              "       [4.70000000e+01, 1.60000000e+02, 1.19286651e-02, 3.00000000e+00],\n",
              "       [9.00000000e+00, 1.20000000e+01, 1.19379016e-02, 2.00000000e+00],\n",
              "       [9.20000000e+01, 1.65000000e+02, 1.19770654e-02, 4.00000000e+00],\n",
              "       [8.60000000e+01, 9.70000000e+01, 1.23737545e-02, 2.00000000e+00],\n",
              "       [4.80000000e+01, 1.59000000e+02, 1.24231332e-02, 4.00000000e+00],\n",
              "       [4.00000000e+00, 4.20000000e+01, 1.27151385e-02, 2.00000000e+00],\n",
              "       [1.24000000e+02, 1.49000000e+02, 1.33260451e-02, 2.00000000e+00],\n",
              "       [1.36000000e+02, 1.48000000e+02, 1.34106537e-02, 2.00000000e+00],\n",
              "       [5.50000000e+01, 6.30000000e+01, 1.36753532e-02, 2.00000000e+00],\n",
              "       [9.60000000e+01, 9.90000000e+01, 1.40607649e-02, 2.00000000e+00],\n",
              "       [1.09000000e+02, 1.15000000e+02, 1.46622459e-02, 2.00000000e+00],\n",
              "       [1.80000000e+01, 1.61000000e+02, 1.46934636e-02, 3.00000000e+00],\n",
              "       [1.28000000e+02, 1.55000000e+02, 1.48141182e-02, 3.00000000e+00],\n",
              "       [1.43000000e+02, 1.78000000e+02, 1.48908421e-02, 4.00000000e+00],\n",
              "       [1.10000000e+02, 1.63000000e+02, 1.49650651e-02, 3.00000000e+00],\n",
              "       [5.10000000e+01, 6.10000000e+01, 1.50966472e-02, 2.00000000e+00],\n",
              "       [1.25000000e+02, 1.33000000e+02, 1.52185668e-02, 2.00000000e+00],\n",
              "       [3.10000000e+01, 4.50000000e+01, 1.53430023e-02, 2.00000000e+00],\n",
              "       [1.70000000e+01, 4.00000000e+01, 1.56172106e-02, 2.00000000e+00],\n",
              "       [1.12000000e+02, 1.47000000e+02, 1.59036661e-02, 2.00000000e+00],\n",
              "       [5.20000000e+01, 8.90000000e+01, 1.64139171e-02, 2.00000000e+00],\n",
              "       [7.80000000e+01, 1.62000000e+02, 1.66032119e-02, 3.00000000e+00],\n",
              "       [5.00000000e+00, 2.10000000e+01, 1.66539838e-02, 2.00000000e+00],\n",
              "       [1.20000000e+02, 1.40000000e+02, 1.70019290e-02, 2.00000000e+00],\n",
              "       [5.30000000e+01, 5.40000000e+01, 1.71705449e-02, 2.00000000e+00],\n",
              "       [8.80000000e+01, 9.50000000e+01, 1.72453149e-02, 2.00000000e+00],\n",
              "       [1.54000000e+02, 1.73000000e+02, 1.76100821e-02, 7.00000000e+00],\n",
              "       [6.60000000e+01, 8.40000000e+01, 1.81787837e-02, 2.00000000e+00],\n",
              "       [1.44000000e+02, 1.90000000e+02, 1.81876428e-02, 3.00000000e+00],\n",
              "       [2.90000000e+01, 1.76000000e+02, 1.81962842e-02, 3.00000000e+00],\n",
              "       [1.23000000e+02, 1.74000000e+02, 1.91330137e-02, 3.00000000e+00],\n",
              "       [9.00000000e+01, 1.88000000e+02, 2.03206756e-02, 3.00000000e+00],\n",
              "       [1.80000000e+02, 1.91000000e+02, 2.03408849e-02, 6.00000000e+00],\n",
              "       [1.05000000e+02, 1.07000000e+02, 2.07907137e-02, 2.00000000e+00],\n",
              "       [3.70000000e+01, 1.85000000e+02, 2.21752670e-02, 3.00000000e+00],\n",
              "       [3.00000000e+01, 1.66000000e+02, 2.21851831e-02, 3.00000000e+00],\n",
              "       [1.21000000e+02, 2.08000000e+02, 2.25480715e-02, 4.00000000e+00],\n",
              "       [1.41000000e+02, 1.45000000e+02, 2.26610337e-02, 2.00000000e+00],\n",
              "       [8.10000000e+01, 1.82000000e+02, 2.29347186e-02, 5.00000000e+00],\n",
              "       [7.20000000e+01, 1.29000000e+02, 2.37324794e-02, 2.00000000e+00],\n",
              "       [4.60000000e+01, 1.72000000e+02, 2.41340243e-02, 3.00000000e+00],\n",
              "       [1.00000000e+00, 1.81000000e+02, 2.57450103e-02, 3.00000000e+00],\n",
              "       [1.99000000e+02, 2.10000000e+02, 2.59999518e-02, 5.00000000e+00],\n",
              "       [1.03000000e+02, 1.75000000e+02, 2.60640201e-02, 3.00000000e+00],\n",
              "       [7.00000000e+01, 2.07000000e+02, 2.64097859e-02, 3.00000000e+00],\n",
              "       [1.89000000e+02, 1.95000000e+02, 2.69116086e-02, 4.00000000e+00],\n",
              "       [1.50000000e+01, 3.30000000e+01, 2.71244940e-02, 2.00000000e+00],\n",
              "       [1.83000000e+02, 2.00000000e+02, 2.72958581e-02, 4.00000000e+00],\n",
              "       [1.70000000e+02, 2.13000000e+02, 2.74970451e-02, 4.00000000e+00],\n",
              "       [1.31000000e+02, 2.11000000e+02, 2.76415993e-02, 4.00000000e+00],\n",
              "       [7.70000000e+01, 2.04000000e+02, 2.79580440e-02, 3.00000000e+00],\n",
              "       [1.64000000e+02, 1.86000000e+02, 2.82189679e-02, 4.00000000e+00],\n",
              "       [5.70000000e+01, 2.06000000e+02, 2.86298481e-02, 8.00000000e+00],\n",
              "       [1.30000000e+01, 1.84000000e+02, 2.95063769e-02, 5.00000000e+00],\n",
              "       [1.10000000e+01, 2.09000000e+02, 2.98284231e-02, 4.00000000e+00],\n",
              "       [2.30000000e+01, 2.60000000e+01, 3.02788509e-02, 2.00000000e+00],\n",
              "       [2.50000000e+01, 2.15000000e+02, 3.15463048e-02, 4.00000000e+00],\n",
              "       [1.00000000e+02, 1.06000000e+02, 3.23459991e-02, 2.00000000e+00],\n",
              "       [6.80000000e+01, 8.70000000e+01, 3.25352030e-02, 2.00000000e+00],\n",
              "       [2.02000000e+02, 2.20000000e+02, 3.31799765e-02, 5.00000000e+00],\n",
              "       [1.98000000e+02, 2.33000000e+02, 3.31964733e-02, 7.00000000e+00],\n",
              "       [8.50000000e+01, 1.77000000e+02, 3.40763925e-02, 3.00000000e+00],\n",
              "       [1.79000000e+02, 2.28000000e+02, 3.45812072e-02, 6.00000000e+00],\n",
              "       [6.70000000e+01, 2.18000000e+02, 3.49168811e-02, 6.00000000e+00],\n",
              "       [1.92000000e+02, 1.93000000e+02, 3.56249652e-02, 7.00000000e+00],\n",
              "       [1.67000000e+02, 2.12000000e+02, 3.59109362e-02, 8.00000000e+00],\n",
              "       [7.30000000e+01, 2.29000000e+02, 3.62554459e-02, 5.00000000e+00],\n",
              "       [2.03000000e+02, 2.16000000e+02, 3.73903075e-02, 6.00000000e+00],\n",
              "       [1.51000000e+02, 1.58000000e+02, 3.74793503e-02, 4.00000000e+00],\n",
              "       [6.40000000e+01, 9.80000000e+01, 3.82249821e-02, 2.00000000e+00],\n",
              "       [2.05000000e+02, 2.25000000e+02, 3.86433810e-02, 6.00000000e+00],\n",
              "       [2.21000000e+02, 2.36000000e+02, 3.96115914e-02, 7.00000000e+00],\n",
              "       [1.96000000e+02, 2.19000000e+02, 3.99706299e-02, 4.00000000e+00],\n",
              "       [4.30000000e+01, 2.35000000e+02, 4.01466033e-02, 3.00000000e+00],\n",
              "       [2.20000000e+01, 2.26000000e+02, 4.03927449e-02, 3.00000000e+00],\n",
              "       [2.40000000e+01, 4.40000000e+01, 4.23127413e-02, 2.00000000e+00],\n",
              "       [1.40000000e+01, 1.60000000e+01, 4.45772765e-02, 2.00000000e+00],\n",
              "       [6.20000000e+01, 1.69000000e+02, 4.79408410e-02, 3.00000000e+00],\n",
              "       [2.14000000e+02, 2.39000000e+02, 4.90956084e-02, 8.00000000e+00],\n",
              "       [3.20000000e+01, 2.54000000e+02, 4.96939690e-02, 4.00000000e+00],\n",
              "       [2.23000000e+02, 2.31000000e+02, 5.06910816e-02, 7.00000000e+00],\n",
              "       [2.27000000e+02, 2.30000000e+02, 5.16216745e-02, 7.00000000e+00],\n",
              "       [2.01000000e+02, 2.46000000e+02, 5.21900615e-02, 8.00000000e+00],\n",
              "       [7.90000000e+01, 2.32000000e+02, 5.29233483e-02, 9.00000000e+00],\n",
              "       [1.14000000e+02, 2.47000000e+02, 5.33083147e-02, 7.00000000e+00],\n",
              "       [1.87000000e+02, 2.37000000e+02, 5.41322696e-02, 4.00000000e+00],\n",
              "       [2.41000000e+02, 2.50000000e+02, 5.55400329e-02, 9.00000000e+00],\n",
              "       [2.40000000e+02, 2.45000000e+02, 5.75479197e-02, 1.50000000e+01],\n",
              "       [1.97000000e+02, 2.51000000e+02, 5.94366943e-02, 9.00000000e+00],\n",
              "       [2.17000000e+02, 2.22000000e+02, 6.04476070e-02, 7.00000000e+00],\n",
              "       [2.38000000e+02, 2.57000000e+02, 6.07252876e-02, 5.00000000e+00],\n",
              "       [1.94000000e+02, 2.24000000e+02, 6.12844097e-02, 6.00000000e+00],\n",
              "       [1.18000000e+02, 2.42000000e+02, 6.21882970e-02, 7.00000000e+00],\n",
              "       [1.34000000e+02, 2.72000000e+02, 6.87037423e-02, 8.00000000e+00],\n",
              "       [1.56000000e+02, 2.56000000e+02, 7.11556922e-02, 4.00000000e+00],\n",
              "       [2.43000000e+02, 2.63000000e+02, 7.47569936e-02, 1.50000000e+01],\n",
              "       [2.34000000e+02, 2.55000000e+02, 7.78323976e-02, 6.00000000e+00],\n",
              "       [2.64000000e+02, 2.65000000e+02, 8.01566114e-02, 1.10000000e+01],\n",
              "       [2.48000000e+02, 2.69000000e+02, 8.45471528e-02, 1.10000000e+01],\n",
              "       [2.53000000e+02, 2.76000000e+02, 9.08252519e-02, 9.00000000e+00],\n",
              "       [2.67000000e+02, 2.74000000e+02, 1.01075001e-01, 1.90000000e+01],\n",
              "       [2.61000000e+02, 2.62000000e+02, 1.02226564e-01, 1.50000000e+01],\n",
              "       [2.44000000e+02, 2.60000000e+02, 1.02301392e-01, 1.40000000e+01],\n",
              "       [2.58000000e+02, 2.59000000e+02, 1.07182346e-01, 1.20000000e+01],\n",
              "       [2.49000000e+02, 2.75000000e+02, 1.14483169e-01, 1.70000000e+01],\n",
              "       [4.10000000e+01, 2.68000000e+02, 1.16567348e-01, 1.00000000e+01],\n",
              "       [2.52000000e+02, 2.78000000e+02, 1.24302988e-01, 1.50000000e+01],\n",
              "       [2.66000000e+02, 2.81000000e+02, 1.40987751e-01, 2.40000000e+01],\n",
              "       [2.77000000e+02, 2.82000000e+02, 1.46332661e-01, 2.50000000e+01],\n",
              "       [2.71000000e+02, 2.87000000e+02, 1.61648809e-01, 3.00000000e+01],\n",
              "       [2.80000000e+02, 2.83000000e+02, 1.69909915e-01, 3.10000000e+01],\n",
              "       [2.79000000e+02, 2.85000000e+02, 1.75693871e-01, 1.90000000e+01],\n",
              "       [2.70000000e+02, 2.84000000e+02, 1.87395962e-01, 2.20000000e+01],\n",
              "       [2.73000000e+02, 2.86000000e+02, 2.07482713e-01, 2.30000000e+01],\n",
              "       [2.90000000e+02, 2.91000000e+02, 2.66871212e-01, 5.00000000e+01],\n",
              "       [2.88000000e+02, 2.93000000e+02, 2.76536674e-01, 4.80000000e+01],\n",
              "       [2.89000000e+02, 2.92000000e+02, 2.96509397e-01, 5.20000000e+01],\n",
              "       [2.95000000e+02, 2.96000000e+02, 6.60932404e-01, 1.00000000e+02],\n",
              "       [2.94000000e+02, 2.97000000e+02, 3.49883566e+00, 1.50000000e+02]])"
            ]
          },
          "metadata": {
            "tags": []
          },
          "execution_count": 49
        }
      ]
    },
    {
      "cell_type": "code",
      "metadata": {
        "colab": {
          "base_uri": "https://localhost:8080/",
          "height": 591
        },
        "id": "5DdktrJaAZJp",
        "outputId": "2e08a019-b2dc-4877-e192-c1a03de16985"
      },
      "source": [
        "from scipy.cluster.hierarchy import dendrogram\n",
        "\n",
        "plt.figure(figsize=(12, 10))\n",
        "dendrogram(linkage_matrix)\n",
        "plt.show()"
      ],
      "execution_count": 54,
      "outputs": [
        {
          "output_type": "display_data",
          "data": {
            "image/png": "[encoded data removed]",
            "text/plain": [
              "<Figure size 864x720 with 1 Axes>"
            ]
          },
          "metadata": {
            "tags": [],
            "needs_background": "light"
          }
        }
      ]
    },
    {
      "cell_type": "code",
      "metadata": {
        "colab": {
          "base_uri": "https://localhost:8080/",
          "height": 729
        },
        "id": "wqeawjnGBFS7",
        "outputId": "8cf4fdd1-fcdf-43e6-91a0-a9d0025577cb"
      },
      "source": [
        "# visualize using seaborn\n",
        "\n",
        "import seaborn as sns\n",
        "\n",
        "sns.clustermap(norm_x, method=linkage_type)\n",
        "plt.show()"
      ],
      "execution_count": 55,
      "outputs": [
        {
          "output_type": "display_data",
          "data": {
            "image/png": "[encoded data removed]",
            "text/plain": [
              "<Figure size 720x720 with 4 Axes>"
            ]
          },
          "metadata": {
            "tags": [],
            "needs_background": "light"
          }
        }
      ]
    }
  ]
}