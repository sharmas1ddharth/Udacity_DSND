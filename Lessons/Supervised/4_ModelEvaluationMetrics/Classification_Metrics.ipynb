{
 "cells": [
  {
   "cell_type": "markdown",
   "source": [
    "### Our Mission\n",
    "\n",
    "In this lesson you gained some insight into a number of techniques used to understand how well our model is performing.  This notebook is aimed at giving you some practice with the metrics specifically related to classification problems.  With that in mind, we will again be looking at the spam dataset from the earlier lessons.\n",
    "\n",
    "First, run the cell below to prepare the data and instantiate a number of different models."
   ],
   "metadata": {}
  },
  {
   "cell_type": "code",
   "execution_count": 1,
   "source": [
    "# Import our libraries\r\n",
    "import pandas as pd\r\n",
    "import numpy as np\r\n",
    "from sklearn.model_selection import train_test_split\r\n",
    "from sklearn.feature_extraction.text import CountVectorizer\r\n",
    "from sklearn.naive_bayes import MultinomialNB\r\n",
    "from sklearn.metrics import accuracy_score, precision_score, recall_score, f1_score\r\n",
    "from sklearn.ensemble import BaggingClassifier, RandomForestClassifier, AdaBoostClassifier\r\n",
    "from sklearn.svm import SVC\r\n",
    "import tests as t\r\n",
    "\r\n",
    "# Read in our dataset\r\n",
    "df = pd.read_table('smsspamcollection/SMSSpamCollection',\r\n",
    "                   sep='\\t', \r\n",
    "                   header=None, \r\n",
    "                   names=['label', 'sms_message'])\r\n",
    "\r\n",
    "# Fix our response value\r\n",
    "df['label'] = df.label.map({'ham':0, 'spam':1})\r\n",
    "\r\n",
    "# Split our dataset into training and testing data\r\n",
    "X_train, X_test, y_train, y_test = train_test_split(df['sms_message'], \r\n",
    "                                                    df['label'], \r\n",
    "                                                    random_state=1)\r\n",
    "\r\n",
    "# Instantiate the CountVectorizer method\r\n",
    "count_vector = CountVectorizer()\r\n",
    "\r\n",
    "# Fit the training data and then return the matrix\r\n",
    "training_data = count_vector.fit_transform(X_train)\r\n",
    "\r\n",
    "# Transform testing data and return the matrix. Note we are not fitting the testing data into the CountVectorizer()\r\n",
    "testing_data = count_vector.transform(X_test)\r\n",
    "\r\n",
    "# Instantiate a number of our models\r\n",
    "naive_bayes = MultinomialNB()\r\n",
    "bag_mod = BaggingClassifier(n_estimators=200)\r\n",
    "rf_mod = RandomForestClassifier(n_estimators=200)\r\n",
    "ada_mod = AdaBoostClassifier(n_estimators=300, learning_rate=0.2)\r\n",
    "svm_mod = SVC()"
   ],
   "outputs": [],
   "metadata": {}
  },
  {
   "cell_type": "markdown",
   "source": [
    "> **Step 1**: Now, fit each of the above models to the appropriate data.  Answer the following question to assure that you fit the models correctly."
   ],
   "metadata": {}
  },
  {
   "cell_type": "code",
   "execution_count": 4,
   "source": [
    "# Fit each of the 4 models\r\n",
    "# This might take some time to run\r\n",
    "naive_bayes.fit(training_data, y_train)\r\n",
    "bag_mod.fit(training_data, y_train)\r\n",
    "rf_mod.fit(training_data, y_train)\r\n",
    "ada_mod.fit(training_data, y_train)\r\n",
    "svm_mod.fit(training_data, y_train)"
   ],
   "outputs": [
    {
     "output_type": "execute_result",
     "data": {
      "text/plain": [
       "SVC()"
      ]
     },
     "metadata": {},
     "execution_count": 4
    }
   ],
   "metadata": {}
  },
  {
   "cell_type": "code",
   "execution_count": 5,
   "source": [
    "# The models you fit above were fit on which data?\r\n",
    "\r\n",
    "a = 'X_train'\r\n",
    "b = 'X_test'\r\n",
    "c = 'y_train'\r\n",
    "d = 'y_test'\r\n",
    "e = 'training_data'\r\n",
    "f = 'testing_data'\r\n",
    "\r\n",
    "# Change models_fit_on to only contain the correct string names\r\n",
    "# of values that you oassed to the above models\r\n",
    "\r\n",
    "models_fit_on = {e, c} # update this to only contain correct letters\r\n",
    "\r\n",
    "# Checks your solution - don't change this\r\n",
    "t.test_one(models_fit_on)"
   ],
   "outputs": [
    {
     "output_type": "stream",
     "name": "stdout",
     "text": [
      "That's right!  You need to fit on both parts of the data pertaining to training data!\n"
     ]
    }
   ],
   "metadata": {}
  },
  {
   "cell_type": "markdown",
   "source": [
    "> **Step 2**: Now make predictions for each of your models on the data that will allow you to understand how well our model will extend to new data.  Then correctly add the strings to the set in the following cell."
   ],
   "metadata": {}
  },
  {
   "cell_type": "code",
   "execution_count": 6,
   "source": [
    "# Make predictions using each of your models\r\n",
    "naive_bayes_predict = naive_bayes.predict(testing_data)\r\n",
    "bag_mod_predict = bag_mod.predict(testing_data)\r\n",
    "rf_mod_predict = rf_mod.predict(testing_data)\r\n",
    "ada_mod_predict = ada_mod.predict(testing_data)\r\n",
    "svm_mod_predict = svm_mod.predict(testing_data)"
   ],
   "outputs": [],
   "metadata": {}
  },
  {
   "cell_type": "code",
   "execution_count": 7,
   "source": [
    "# Which data was used in the predict method to see how well your\r\n",
    "# model would work on new data?\r\n",
    "\r\n",
    "a = 'X_train'\r\n",
    "b = 'X_test'\r\n",
    "c = 'y_train'\r\n",
    "d = 'y_test'\r\n",
    "e = 'training_data'\r\n",
    "f = 'testing_data'\r\n",
    "\r\n",
    "# Change models_predict_on to only contain the correct string names\r\n",
    "# of values that you oassed to the above models\r\n",
    "\r\n",
    "models_predict_on = {f} # update this to only contain correct letters\r\n",
    "\r\n",
    "# Checks your solution - don't change this\r\n",
    "t.test_two(models_predict_on)"
   ],
   "outputs": [
    {
     "output_type": "stream",
     "name": "stdout",
     "text": [
      "That's right! To see how well our models perform in a new setting, you will want to predict on the test set of data.\n"
     ]
    }
   ],
   "metadata": {}
  },
  {
   "cell_type": "markdown",
   "source": [
    "Now that you have set up all your predictions, let's get to topis addressed in this lesson - measuring how well each of your models performed. First, we will focus on how each metric was calculated for a single model, and then in the final part of this notebook, you will choose models that are best based on a particular metric.\n",
    "\n",
    "You will be writing functions to calculate a number of metrics and then comparing the values to what you get from sklearn.  This will help you build intuition for how each metric is calculated.\n",
    "\n",
    "> **Step 3**: As an example of how this will work for the upcoming questions, run the cell below.  Fill in the below function to calculate accuracy, and then compare your answer to the built in to assure you are correct."
   ],
   "metadata": {}
  },
  {
   "cell_type": "code",
   "execution_count": 8,
   "source": [
    "# accuracy is the total correct divided by the total to predict\r\n",
    "def accuracy(actual, preds):\r\n",
    "    '''\r\n",
    "    INPUT\r\n",
    "    preds - predictions as a numpy array or pandas series\r\n",
    "    actual - actual values as a numpy array or pandas series\r\n",
    "    \r\n",
    "    OUTPUT:\r\n",
    "    returns the accuracy as a float\r\n",
    "    '''\r\n",
    "    return np.sum(preds == actual)/len(actual)\r\n",
    "\r\n",
    "\r\n",
    "print(accuracy(y_test, naive_bayes_predict))\r\n",
    "print(accuracy_score(y_test, naive_bayes_predict))\r\n",
    "print(\"Since these match, we correctly calculated our metric!\")"
   ],
   "outputs": [
    {
     "output_type": "stream",
     "name": "stdout",
     "text": [
      "0.9885139985642498\n",
      "0.9885139985642498\n",
      "Since these match, we correctly calculated our metric!\n"
     ]
    }
   ],
   "metadata": {}
  },
  {
   "cell_type": "markdown",
   "source": [
    "> **Step 4**: Fill in the below function to calculate precision, and then compare your answer to the built in to assure you are correct."
   ],
   "metadata": {}
  },
  {
   "cell_type": "code",
   "execution_count": 10,
   "source": [
    "# precision is the true positives over the predicted positive values\r\n",
    "def precision(actual, preds):\r\n",
    "    '''\r\n",
    "    INPUT\r\n",
    "    (assumes positive = 1 and negative = 0)\r\n",
    "    preds - predictions as a numpy array or pandas series \r\n",
    "    actual - actual values as a numpy array or pandas series\r\n",
    "    \r\n",
    "    OUTPUT:\r\n",
    "    returns the precision as a float\r\n",
    "    '''\r\n",
    "    tp = len(np.intersect1d(np.where(preds==1), np.where(actual==1)))\r\n",
    "    pred_pos = (preds == 1).sum()\r\n",
    "    return tp/pred_pos\r\n",
    "\r\n",
    "\r\n",
    "print(precision(y_test, naive_bayes_predict))\r\n",
    "print(precision_score(y_test, naive_bayes_predict))\r\n",
    "print(\"If the above match, you got it!\")"
   ],
   "outputs": [
    {
     "output_type": "stream",
     "name": "stdout",
     "text": [
      "0.9720670391061452\n",
      "0.9720670391061452\n",
      "If the above match, you got it!\n"
     ]
    }
   ],
   "metadata": {}
  },
  {
   "cell_type": "markdown",
   "source": [
    "> **Step 5**: Fill in the below function to calculate recall, and then compare your answer to the built in to assure you are correct."
   ],
   "metadata": {}
  },
  {
   "cell_type": "code",
   "execution_count": 13,
   "source": [
    "# recall is true positives over all actual positive values\r\n",
    "def recall(actual, preds):\r\n",
    "    '''\r\n",
    "    INPUT\r\n",
    "    preds - predictions as a numpy array or pandas series\r\n",
    "    actual - actual values as a numpy array or pandas series\r\n",
    "    \r\n",
    "    OUTPUT:\r\n",
    "    returns the recall as a float\r\n",
    "    '''\r\n",
    "    tp = len(np.intersect1d(np.where(preds==1), np.where(actual==1)))\r\n",
    "    actual_pos = (actual==1).sum()\r\n",
    "    return tp/actual_pos\r\n",
    "\r\n",
    "\r\n",
    "print(recall(y_test, naive_bayes_predict))\r\n",
    "print(recall_score(y_test, naive_bayes_predict))\r\n",
    "print(\"If the above match, you got it!\")"
   ],
   "outputs": [
    {
     "output_type": "stream",
     "name": "stdout",
     "text": [
      "0.9405405405405406\n",
      "0.9405405405405406\n",
      "If the above match, you got it!\n"
     ]
    }
   ],
   "metadata": {}
  },
  {
   "cell_type": "markdown",
   "source": [
    "> **Step 6**: Fill in the below function to calculate f1-score, and then compare your answer to the built in to assure you are correct."
   ],
   "metadata": {}
  },
  {
   "cell_type": "code",
   "execution_count": 16,
   "source": [
    "# f1_score is 2*(precision*recall)/(precision+recall))\r\n",
    "def f1(preds, actual):\r\n",
    "    '''\r\n",
    "    INPUT\r\n",
    "    preds - predictions as a numpy array or pandas series\r\n",
    "    actual - actual values as a numpy array or pandas series\r\n",
    "    \r\n",
    "    OUTPUT:\r\n",
    "    returns the f1score as a float\r\n",
    "    '''\r\n",
    "    p = precision(actual, preds)\r\n",
    "    r = recall(actual, preds)\r\n",
    "    return 2 * (p * r) / (p + r)\r\n",
    "\r\n",
    "\r\n",
    "print(f1(y_test, naive_bayes_predict))\r\n",
    "print(f1_score(y_test, naive_bayes_predict))\r\n",
    "print(\"If the above match, you got it!\")"
   ],
   "outputs": [
    {
     "output_type": "stream",
     "name": "stdout",
     "text": [
      "0.9560439560439562\n",
      "0.9560439560439562\n",
      "If the above match, you got it!\n"
     ]
    }
   ],
   "metadata": {}
  },
  {
   "cell_type": "markdown",
   "source": [
    "> **Step 7:** Now that you have calculated a number of different metrics, let's tie that to when we might use one versus another.  Use the dictionary below to match a metric to each statement that identifies when you would want to use that metric."
   ],
   "metadata": {}
  },
  {
   "cell_type": "code",
   "execution_count": 24,
   "source": [
    "# add the letter of the most appropriate metric to each statement\r\n",
    "# in the dictionary\r\n",
    "a = \"recall\"\r\n",
    "b = \"precision\"\r\n",
    "c = \"accuracy\"\r\n",
    "d = 'f1-score'\r\n",
    "\r\n",
    "\r\n",
    "seven_sol = {\r\n",
    "'We have imbalanced classes, which metric do we definitely not want to use?': c,\r\n",
    "'We really want to make sure the positive cases are all caught even if that means we identify some negatives as positives': a,\r\n",
    "'When we identify something as positive, we want to be sure it is truly positive': b,\r\n",
    "'We care equally about identifying positive and negative cases': d,\r\n",
    "}\r\n",
    "\r\n",
    "t.sol_seven(seven_sol)"
   ],
   "outputs": [
    {
     "output_type": "stream",
     "name": "stdout",
     "text": [
      "That's right!  It isn't really necessary to memorize these in practice, but it is important to know they exist and know why might use one metric over another for a particular situation.\n"
     ]
    }
   ],
   "metadata": {}
  },
  {
   "cell_type": "markdown",
   "source": [
    "> **Step 8:** Given what you know about the metrics now, use this information to correctly match the appropriate model to when it would be best to use each in the dictionary below."
   ],
   "metadata": {}
  },
  {
   "cell_type": "code",
   "execution_count": 42,
   "source": [
    "# use the answers you found to the previous questiona, then match the model that did best for each metric\r\n",
    "a = \"naive-bayes\"\r\n",
    "b = \"bagging\"\r\n",
    "c = \"random-forest\"\r\n",
    "d = 'ada-boost'\r\n",
    "e = \"svm\"\r\n",
    "\r\n",
    "\r\n",
    "eight_sol = {\r\n",
    "'We have imbalanced classes, which metric do we definitely not want to use?': a,\r\n",
    "'We really want to make sure the positive cases are all caught even if that means we identify some negatives as positives':a,   \r\n",
    "'When we identify something as positive, we want to be sure it is truly positive': c,\r\n",
    "'We care equally about identifying positive and negative cases': a\r\n",
    "}\r\n",
    "\r\n",
    "t.sol_eight(eight_sol)"
   ],
   "outputs": [
    {
     "output_type": "stream",
     "name": "stdout",
     "text": [
      "That's right!  Naive Bayes was the best model for all of our metrics except precision!\n"
     ]
    }
   ],
   "metadata": {}
  },
  {
   "cell_type": "code",
   "execution_count": 39,
   "source": [
    "# cells for work\r\n",
    "models = [naive_bayes_predict, rf_mod_predict, ada_mod_predict, bag_mod_predict, svm_mod_predict]\r\n",
    "for i in models:\r\n",
    "    acc = accuracy(y_test, i)\r\n",
    "    prec = precision(y_test, i)\r\n",
    "    rec = recall(y_test, i)\r\n",
    "    f = f1(y_test, i)\r\n",
    "\r\n",
    "    print(f\"accuracy : {acc}\")\r\n",
    "    print(f\"precision : {prec}\")\r\n",
    "    print(f\"recall : {rec}\")\r\n",
    "    print(f\"f1 : {f}\\n\")\r\n"
   ],
   "outputs": [
    {
     "output_type": "stream",
     "name": "stdout",
     "text": [
      "accuracy : 0.9885139985642498\n",
      "precision : 0.9720670391061452\n",
      "recall : 0.9405405405405406\n",
      "f1 : 0.9560439560439562\n",
      "\n",
      "accuracy : 0.9813352476669059\n",
      "precision : 1.0\n",
      "recall : 0.8594594594594595\n",
      "f1 : 0.9244186046511628\n",
      "\n",
      "accuracy : 0.9770279971284996\n",
      "precision : 0.9693251533742331\n",
      "recall : 0.8540540540540541\n",
      "f1 : 0.9080459770114943\n",
      "\n",
      "accuracy : 0.9741564967695621\n",
      "precision : 0.907103825136612\n",
      "recall : 0.8972972972972973\n",
      "f1 : 0.9021739130434783\n",
      "\n",
      "accuracy : 0.9849246231155779\n",
      "precision : 0.9939759036144579\n",
      "recall : 0.8918918918918919\n",
      "f1 : 0.9401709401709402\n",
      "\n"
     ]
    }
   ],
   "metadata": {}
  },
  {
   "cell_type": "code",
   "execution_count": null,
   "source": [
    "# If you get stuck, also notice there is a solution available by hitting the orange button in the top left"
   ],
   "outputs": [],
   "metadata": {}
  },
  {
   "cell_type": "code",
   "execution_count": null,
   "source": [
    "\r\n"
   ],
   "outputs": [],
   "metadata": {}
  },
  {
   "cell_type": "markdown",
   "source": [
    "As a final step in this workbook, let's take a look at the last three metrics you saw, f-beta scores, ROC curves, and AUC.\n",
    "\n",
    "**For f-beta scores:** If you decide that you care more about precision, you should move beta closer to 0.  If you decide you care more about recall, you should move beta towards infinity. \n",
    "\n",
    "> **Step 9:** Using the fbeta_score works similar to most of the other metrics in sklearn, but you also need to set beta as your weighting between precision and recall.  Use the space below to show that you can use [fbeta in sklearn](http://scikit-learn.org/stable/modules/generated/sklearn.metrics.fbeta_score.html) to replicate your f1-score from above.  If in the future you want to use a different weighting, [this article](http://mlwiki.org/index.php/Precision_and_Recall) does an amazing job of explaining how you might adjust beta for different situations."
   ],
   "metadata": {}
  },
  {
   "cell_type": "code",
   "execution_count": 51,
   "source": [
    "# import fbeta_score\r\n",
    "from sklearn.metrics import fbeta_score\r\n",
    "from sklearn.metrics import f1_score\r\n",
    "# Show that you can produce the same f1_score results using fbeta_score\r\n",
    "\r\n",
    "print(f\"f1 : {f1_score(y_test, naive_bayes_predict)}\")\r\n",
    "print(f\"f_beta : {fbeta_score(y_test, naive_bayes_predict, beta=1.0)}\")\r\n",
    "\r\n",
    "\r\n"
   ],
   "outputs": [
    {
     "output_type": "stream",
     "name": "stdout",
     "text": [
      "f1 : 0.9560439560439562\n",
      "f_beta : 0.9560439560439562\n"
     ]
    }
   ],
   "metadata": {}
  },
  {
   "cell_type": "markdown",
   "source": [
    "> **Step 10:** Building ROC curves in python is a pretty involved process on your own.  I wrote the function below to assist with the process and make it easier for you to do so in the future as well.  Try it out using one of the other classifiers you created above to see how it compares to the random forest model below.\n",
    "\n",
    "Run the cell below to build a ROC curve, and retrieve the AUC for the random forest model."
   ],
   "metadata": {}
  },
  {
   "cell_type": "code",
   "execution_count": 52,
   "source": [
    "# Function for calculating auc and roc\r\n",
    "\r\n",
    "def build_roc_auc(model, X_train, X_test, y_train, y_test):\r\n",
    "    '''\r\n",
    "    INPUT:\r\n",
    "    model - an sklearn instantiated model\r\n",
    "    X_train - the training data\r\n",
    "    y_train - the training response values (must be categorical)\r\n",
    "    X_test - the test data\r\n",
    "    y_test - the test response values (must be categorical)\r\n",
    "    OUTPUT:\r\n",
    "    auc - returns auc as a float\r\n",
    "    prints the roc curve\r\n",
    "    '''\r\n",
    "    import numpy as np\r\n",
    "    import matplotlib.pyplot as plt\r\n",
    "    from itertools import cycle\r\n",
    "    from sklearn.metrics import roc_curve, auc, roc_auc_score\r\n",
    "    from scipy import interp\r\n",
    "    \r\n",
    "    y_preds = model.fit(X_train, y_train).predict_proba(X_test)\r\n",
    "    # Compute ROC curve and ROC area for each class\r\n",
    "    fpr = dict()\r\n",
    "    tpr = dict()\r\n",
    "    roc_auc = dict()\r\n",
    "    for i in range(len(y_test)):\r\n",
    "        fpr[i], tpr[i], _ = roc_curve(y_test, y_preds[:, 1])\r\n",
    "        roc_auc[i] = auc(fpr[i], tpr[i])\r\n",
    "\r\n",
    "    # Compute micro-average ROC curve and ROC area\r\n",
    "    fpr[\"micro\"], tpr[\"micro\"], _ = roc_curve(y_test.ravel(), y_preds[:, 1].ravel())\r\n",
    "    roc_auc[\"micro\"] = auc(fpr[\"micro\"], tpr[\"micro\"])\r\n",
    "    \r\n",
    "    plt.plot(fpr[2], tpr[2], color='darkorange',\r\n",
    "             lw=2, label='ROC curve (area = %0.2f)' % roc_auc[2])\r\n",
    "    plt.plot([0, 1], [0, 1], color='navy', lw=2, linestyle='--')\r\n",
    "    plt.xlim([0.0, 1.0])\r\n",
    "    plt.ylim([0.0, 1.05])\r\n",
    "    plt.xlabel('False Positive Rate')\r\n",
    "    plt.ylabel('True Positive Rate')\r\n",
    "    plt.title('Receiver operating characteristic example')\r\n",
    "    plt.show()\r\n",
    "    \r\n",
    "    return roc_auc_score(y_test, np.round(y_preds[:, 1]))\r\n",
    "    \r\n",
    "    \r\n",
    "# Finding roc and auc for the random forest model    \r\n",
    "build_roc_auc(rf_mod, training_data, testing_data, y_train, y_test) "
   ],
   "outputs": [
    {
     "output_type": "display_data",
     "data": {
      "text/plain": [
       "<Figure size 432x288 with 1 Axes>"
      ],
      "image/png": "[encoded data removed]"
     },
     "metadata": {
      "needs_background": "light"
     }
    },
    {
     "output_type": "execute_result",
     "data": {
      "text/plain": [
       "0.9243243243243243"
      ]
     },
     "metadata": {},
     "execution_count": 52
    }
   ],
   "metadata": {}
  },
  {
   "cell_type": "code",
   "execution_count": 55,
   "source": [
    "# Your turn here - choose another classifier to see how it compares\r\n",
    "\r\n",
    "build_roc_auc(bag_mod, training_data, testing_data, y_train, y_test)\r\n"
   ],
   "outputs": [
    {
     "output_type": "display_data",
     "data": {
      "text/plain": [
       "<Figure size 432x288 with 1 Axes>"
      ],
      "image/png": "[encoded data removed]"
     },
     "metadata": {
      "needs_background": "light"
     }
    },
    {
     "output_type": "execute_result",
     "data": {
      "text/plain": [
       "0.9420261320923573"
      ]
     },
     "metadata": {},
     "execution_count": 55
    }
   ],
   "metadata": {}
  }
 ],
 "metadata": {
  "kernelspec": {
   "name": "python3",
   "display_name": "Python 3.9.4 64-bit"
  },
  "language_info": {
   "codemirror_mode": {
    "name": "ipython",
    "version": 3
   },
   "file_extension": ".py",
   "mimetype": "text/x-python",
   "name": "python",
   "nbconvert_exporter": "python",
   "pygments_lexer": "ipython3",
   "version": "3.9.4"
  },
  "interpreter": {
   "hash": "c847c6e972454b29a089ff441ac7748bdb3ebfe236f9ff01197d59c725715b4d"
  }
 },
 "nbformat": 4,
 "nbformat_minor": 2
}