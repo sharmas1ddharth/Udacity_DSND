{
 "cells": [
  {
   "cell_type": "code",
   "execution_count": null,
   "source": [],
   "outputs": [],
   "metadata": {}
  },
  {
   "cell_type": "markdown",
   "source": [
    "### Diabetes Case Study\n",
    "\n",
    "You now have had the opportunity to work with a range of supervised machine learning techniques for both classification and regression.  Before you apply these in the project, let's do one more example to see how the machine learning process works from beginning to end with another popular dataset.\n",
    "\n",
    "We will start out by reading in the dataset and our necessary libraries.  You will then gain an understanding of how to optimize a number of models using grid searching as you work through the notebook. "
   ],
   "metadata": {}
  },
  {
   "cell_type": "code",
   "execution_count": null,
   "source": [
    "# Import our libraries\r\n",
    "import pandas as pd\r\n",
    "import numpy as np\r\n",
    "from sklearn.datasets import load_diabetes\r\n",
    "from sklearn.model_selection import train_test_split, RandomizedSearchCV\r\n",
    "from sklearn.metrics import accuracy_score, precision_score, recall_score, f1_score\r\n",
    "from sklearn.ensemble import RandomForestClassifier, AdaBoostClassifier\r\n",
    "import matplotlib.pyplot as plt\r\n",
    "from sklearn.svm import SVC\r\n",
    "import seaborn as sns\r\n",
    "sns.set(style=\"ticks\")\r\n",
    "\r\n",
    "import check_file as ch\r\n",
    "\r\n",
    "%matplotlib inline\r\n",
    "\r\n",
    "# Read in our dataset\r\n",
    "diabetes = pd.read_csv('diabetes.csv')\r\n",
    "\r\n",
    "# Take a look at the first few rows of the dataset\r\n",
    "diabetes.head()"
   ],
   "outputs": [],
   "metadata": {}
  },
  {
   "cell_type": "markdown",
   "source": [
    "Because this course has been aimed at understanding machine learning techniques, we have largely ignored items related to parts of the data analysis process that come before building machine learning models - exploratory data analysis, feature engineering, data cleaning, and data wrangling.  \n",
    "\n",
    "> **Step 1:** Let's do a few steps here.  Take a look at some of usual summary statistics calculated to accurately match the values to the appropriate key in the dictionary below. "
   ],
   "metadata": {}
  },
  {
   "cell_type": "code",
   "execution_count": null,
   "source": [
    "# Cells for wor\r\n",
    "diabetes.describe()\r\n"
   ],
   "outputs": [],
   "metadata": {}
  },
  {
   "cell_type": "code",
   "execution_count": null,
   "source": [
    "diabetes.hist()"
   ],
   "outputs": [],
   "metadata": {}
  },
  {
   "cell_type": "code",
   "execution_count": null,
   "source": [
    "diabetes.corr()"
   ],
   "outputs": [],
   "metadata": {}
  },
  {
   "cell_type": "code",
   "execution_count": null,
   "source": [],
   "outputs": [],
   "metadata": {}
  },
  {
   "cell_type": "code",
   "execution_count": null,
   "source": [
    "# Possible keys for the dictionary\r\n",
    "a = '0.65'\r\n",
    "b = '0'\r\n",
    "c = 'Age'\r\n",
    "d = '0.35'\r\n",
    "e = 'Glucose'\r\n",
    "f = '0.5'\r\n",
    "g = \"More than zero\"\r\n",
    "\r\n",
    "# Fill in the dictionary with the correct values here\r\n",
    "answers_one = {\r\n",
    "    'The proportion of diabetes outcomes in the dataset': d,\r\n",
    "    'The number of missing data points in the dataset': b,\r\n",
    "    'A dataset with a symmetric distribution': e,\r\n",
    "    'A dataset with a right-skewed distribution': c,\r\n",
    "    'This variable has the strongest correlation with the outcome': e\r\n",
    "}\r\n",
    "\r\n",
    "# Just to check your answer, don't change this\r\n",
    "ch.check_one(answers_one)"
   ],
   "outputs": [],
   "metadata": {}
  },
  {
   "cell_type": "markdown",
   "source": [
    "> **Step 2**: Since our dataset here is quite clean, we will jump straight into the machine learning.  Our goal here is to be able to predict cases of diabetes.  First, you need to identify the y vector and X matrix.  Then, the following code will divide your dataset into training and test data.   "
   ],
   "metadata": {}
  },
  {
   "cell_type": "code",
   "execution_count": null,
   "source": [
    "y = diabetes.Outcome\r\n",
    "X = diabetes.drop('Outcome', axis=1)\r\n",
    "\r\n",
    "X_train, X_test, y_train, y_test = train_test_split(X, y, test_size=0.2, random_state=42)"
   ],
   "outputs": [],
   "metadata": {}
  },
  {
   "cell_type": "markdown",
   "source": [
    "Now that you have a training and testing dataset, we need to create some models that and ultimately find the best of them.  However, unlike in earlier lessons, where we used the defaults, we can now tune these models to be the very best models they can be.\n",
    "\n",
    "It can often be difficult (and extremely time consuming) to test all the possible hyperparameter combinations to find the best models.  Therefore, it is often useful to set up a randomized search.  \n",
    "\n",
    "In practice, randomized searches across hyperparameters have shown to be more time confusing, while still optimizing quite well.  One article related to this topic is available [here](https://blog.h2o.ai/2016/06/hyperparameter-optimization-in-h2o-grid-search-random-search-and-the-future/).  The documentation for using randomized search in sklearn can be found [here](http://scikit-learn.org/stable/auto_examples/model_selection/plot_randomized_search.html#sphx-glr-auto-examples-model-selection-plot-randomized-search-py) and [here](http://scikit-learn.org/stable/modules/generated/sklearn.model_selection.RandomizedSearchCV.html).\n",
    "\n",
    "In order to use the randomized search effectively, you will want to have a pretty reasonable understanding of the distributions that best give a sense of your hyperparameters.  Understanding what values are possible for your hyperparameters will allow you to write a grid search that performs well (and doesn't break).\n",
    "\n",
    "> **Step 3**: In this step, I will show you how to use randomized search, and then you can set up grid searches for the other models in Step 4.  However, you will be helping, as I don't remember exactly what each of the hyperparameters in SVMs do.  Match each hyperparameter to its corresponding tuning functionality.\n",
    "\n"
   ],
   "metadata": {}
  },
  {
   "cell_type": "code",
   "execution_count": 56,
   "source": [
    "# build a classifier\r\n",
    "clf_rf = RandomForestClassifier()\r\n",
    "\r\n",
    "# Set up the hyperparameter search\r\n",
    "param_dist = {\"max_depth\": [3, None],\r\n",
    "              \"n_estimators\": list(range(10, 200)),\r\n",
    "              \"max_features\": list(range(1, X_test.shape[1]+1)),\r\n",
    "              \"min_samples_split\": list(range(2, 11)),\r\n",
    "              \"min_samples_leaf\": list(range(1, 11)),\r\n",
    "              \"bootstrap\": [True, False],\r\n",
    "              \"criterion\": [\"gini\", \"entropy\"]}\r\n",
    "\r\n",
    "\r\n",
    "# Run a randomized search over the hyperparameters\r\n",
    "random_search = RandomizedSearchCV(clf_rf, param_distributions=param_dist)\r\n",
    "\r\n",
    "# Fit the model on the training data\r\n",
    "random_search.fit(X_train, y_train)\r\n",
    "\r\n",
    "# Make predictions on the test data\r\n",
    "rf_preds = random_search.best_estimator_.predict(X_test)\r\n",
    "\r\n",
    "ch.print_metrics(y_test, rf_preds, 'random forest')"
   ],
   "outputs": [
    {
     "output_type": "stream",
     "name": "stdout",
     "text": [
      "Accuracy score for random forest : 0.7272727272727273\n",
      "Precision score random forest : 0.6140350877192983\n",
      "Recall score random forest : 0.6363636363636364\n",
      "F1 score random forest : 0.625\n",
      "\n",
      "\n",
      "\n"
     ]
    }
   ],
   "metadata": {}
  },
  {
   "cell_type": "markdown",
   "source": [
    "> **Step 4**: Now that you have seen how to run a randomized grid search using random forest, try this out for the AdaBoost and SVC classifiers.  You might also decide to try out other classifiers that you saw earlier in the lesson to see what works best."
   ],
   "metadata": {}
  },
  {
   "cell_type": "code",
   "execution_count": 55,
   "source": [
    "# build a classifier for ada boost\r\n",
    "ada_boost_clf = AdaBoostClassifier()\r\n",
    "\r\n",
    "# Set up the hyperparameter search\r\n",
    "# look at  setting up your search for n_estimators, learning_rate\r\n",
    "# http://scikit-learn.org/stable/modules/generated/sklearn.ensemble.AdaBoostClassifier.html\r\n",
    "\r\n",
    "param_dist_ada = {\"n_estimators\": [10, 100, 200, 400],\r\n",
    "              \"learning_rate\": [0.001, 0.005, .01, 0.05, 0.1, 0.2, 0.3, 0.4, 0.5, 1, 2, 10, 20]}\r\n",
    "# Run a randomized search over the hyperparameters\r\n",
    "random_search_ada = RandomizedSearchCV(ada_boost_clf, param_distributions=param_dist_ada)\r\n",
    "\r\n",
    "# Fit the model on the training data\r\n",
    "random_search_ada.fit(X_train, y_train)\r\n",
    "\r\n",
    "# Make predictions on the test data\r\n",
    "ada_preds = random_search_ada.best_estimator_.predict(X_test)\r\n",
    "\r\n",
    "# Return your metrics on test data\r\n",
    "ch.print_metrics(y_test, ada_preds, 'adaboost')"
   ],
   "outputs": [
    {
     "output_type": "stream",
     "name": "stdout",
     "text": [
      "Accuracy score for adaboost : 0.7792207792207793\n",
      "Precision score adaboost : 0.7058823529411765\n",
      "Recall score adaboost : 0.6545454545454545\n",
      "F1 score adaboost : 0.679245283018868\n",
      "\n",
      "\n",
      "\n"
     ]
    }
   ],
   "metadata": {}
  },
  {
   "cell_type": "code",
   "execution_count": 54,
   "source": [
    "# build a classifier for support vector machines\r\n",
    "svm_clf = SVC()\r\n",
    "\r\n",
    "# Set up the hyperparameter search\r\n",
    "# look at setting up your search for C (recommend 0-10 range), \r\n",
    "# kernel, and degree\r\n",
    "# http://scikit-learn.org/stable/modules/generated/sklearn.svm.SVC.html\r\n",
    "param_dist = {'kernel' : ['linear', 'rbf'],\r\n",
    "                'C':[0.1, 0.5, 1, 2, 5]}\r\n",
    "\r\n",
    "c\r\n",
    "# Run a randomized search over the hyperparameters\r\n",
    "random_search_svm = RandomizedSearchCV(svm_clf, param_distributions=param_dist)\r\n",
    "\r\n",
    "# Fit the model on the training data\r\n",
    "random_search_svm.fit(X_train, y_train)\r\n",
    "\r\n",
    "# Make predictions on the test data\r\n",
    "svc_preds = random_search_svm.best_estimator_.predict(X_test)\r\n",
    "\r\n",
    "\r\n",
    "# Return your metrics on test data\r\n",
    "ch.print_metrics(y_test, svc_preds, 'svc')"
   ],
   "outputs": [
    {
     "output_type": "stream",
     "name": "stdout",
     "text": [
      "Accuracy score for svc : 0.7532467532467533\n",
      "Precision score svc : 0.6545454545454545\n",
      "Recall score svc : 0.6545454545454545\n",
      "F1 score svc : 0.6545454545454545\n",
      "\n",
      "\n",
      "\n"
     ]
    }
   ],
   "metadata": {}
  },
  {
   "cell_type": "markdown",
   "source": [
    "> **Step 5**: Use the test below to see if your best model matched, what we found after running the grid search.  "
   ],
   "metadata": {}
  },
  {
   "cell_type": "code",
   "execution_count": 57,
   "source": [
    "a = 'randomforest'\r\n",
    "b = 'adaboost'\r\n",
    "c = 'supportvector'\r\n",
    "\r\n",
    "best_model =  b\r\n",
    "\r\n",
    "# See if your best model was also mine.  \r\n",
    "# Notice these might not match depending your search!\r\n",
    "ch.check_best(best_model)"
   ],
   "outputs": [
    {
     "output_type": "stream",
     "name": "stdout",
     "text": [
      "Nice!  It looks like your best model matches the best model I found as well!  It makes sense to use f1 score to determine best in this case given the imbalance of classes.  There might be justification for precision or recall being the best metric to use as well - precision showed to be best with adaboost again.  With recall, SVMs proved to be the best for our models.\n"
     ]
    }
   ],
   "metadata": {}
  },
  {
   "cell_type": "markdown",
   "source": [
    "Once you have found your best model, it is also important to understand why it is performing well.  In regression models where you can see the weights, it can be much easier to interpret results. \n",
    "\n",
    "> **Step 6**:  Despite the fact that your models here are more difficult to interpret, there are some ways to get an idea of which features are important.  Using the \"best model\" from the previous question, find the features that were most important in helping determine if an individual would have diabetes or not. Do your conclusions match what you might have expected during the exploratory phase of this notebook?"
   ],
   "metadata": {}
  },
  {
   "cell_type": "code",
   "execution_count": 59,
   "source": [
    "# Show your work here - the plot below was helpful for me\r\n",
    "# https://stackoverflow.com/questions/44101458/random-forest-feature-importance-chart-using-python\r\n",
    "features = diabetes.columns[:diabetes.shape[1]]\r\n",
    "importances = random_search.best_estimator_.feature_importances_\r\n",
    "indices = np.argsort(importances)\r\n",
    "\r\n",
    "plt.title('Feature Importances')\r\n",
    "plt.barh(range(len(indices)), importances[indices], color='b', align='center')\r\n",
    "plt.yticks(range(len(indices)), features[indices])\r\n",
    "plt.xlabel('Relative Importance');"
   ],
   "outputs": [
    {
     "output_type": "display_data",
     "data": {
      "text/plain": [
       "<Figure size 432x288 with 1 Axes>"
      ],
      "image/png": "[encoded data removed]"
     },
     "metadata": {
      "needs_background": "light"
     }
    }
   ],
   "metadata": {}
  },
  {
   "cell_type": "markdown",
   "source": [],
   "metadata": {}
  },
  {
   "cell_type": "markdown",
   "source": [
    "> **Step 7**:  Using your results above to complete the dictionary below."
   ],
   "metadata": {}
  },
  {
   "cell_type": "code",
   "execution_count": 60,
   "source": [
    "# Check your solution by matching the correct values in the dictionary\r\n",
    "# and running this cell\r\n",
    "a = 'Age'\r\n",
    "b = 'BloodPressure'\r\n",
    "c = 'BMI'\r\n",
    "d = 'DiabetesPedigreeFunction'\r\n",
    "e = 'Insulin'\r\n",
    "f = 'Glucose'\r\n",
    "g = 'Pregnancy'\r\n",
    "h = 'SkinThickness'\r\n",
    "\r\n",
    "\r\n",
    "sol_seven = {\r\n",
    "    'The variable that is most related to the outcome of diabetes' : f,\r\n",
    "    'The second most related variable to the outcome of diabetes' : c,\r\n",
    "    'The third most related variable to the outcome of diabetes' : a,\r\n",
    "    'The fourth most related variable to the outcome of diabetes' : d\r\n",
    "}\r\n",
    "ch.check_q_seven(sol_seven)"
   ],
   "outputs": [
    {
     "output_type": "stream",
     "name": "stdout",
     "text": [
      "That's right!  Some of these were expected, but some were a bit unexpected too!\n"
     ]
    }
   ],
   "metadata": {}
  },
  {
   "cell_type": "markdown",
   "source": [
    "> **Step 8**:  Now provide a summary of what you did through this notebook, and how you might explain the results to a non-technical individual.  When you are done, check out the solution notebook by clicking the orange icon in the upper left."
   ],
   "metadata": {}
  },
  {
   "cell_type": "markdown",
   "source": [],
   "metadata": {}
  },
  {
   "cell_type": "code",
   "execution_count": null,
   "source": [],
   "outputs": [],
   "metadata": {}
  }
 ],
 "metadata": {
  "kernelspec": {
   "name": "python3",
   "display_name": "Python 3.9.4 64-bit"
  },
  "language_info": {
   "codemirror_mode": {
    "name": "ipython",
    "version": 3
   },
   "file_extension": ".py",
   "mimetype": "text/x-python",
   "name": "python",
   "nbconvert_exporter": "python",
   "pygments_lexer": "ipython3",
   "version": "3.9.4"
  },
  "interpreter": {
   "hash": "c847c6e972454b29a089ff441ac7748bdb3ebfe236f9ff01197d59c725715b4d"
  }
 },
 "nbformat": 4,
 "nbformat_minor": 2
}